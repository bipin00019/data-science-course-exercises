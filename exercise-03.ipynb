{
  "nbformat": 4,
  "nbformat_minor": 0,
  "metadata": {
    "colab": {
      "provenance": []
    },
    "kernelspec": {
      "name": "python3",
      "display_name": "Python 3"
    },
    "language_info": {
      "name": "python"
    }
  },
  "cells": [
    {
      "cell_type": "markdown",
      "source": [
        "Integer & Float Mix\n",
        "\n",
        "•\tCreate an integer a and a float b.\n",
        "\n",
        "•\tPerform addition, subtraction, multiplication, and division on them.\n",
        "\n",
        "•\tPrint the results and observe the type of each result with type().\n"
      ],
      "metadata": {
        "id": "bmr6K_AB_GB8"
      }
    },
    {
      "cell_type": "code",
      "source": [
        "a = 2\n",
        "b = 3.5\n",
        "\n",
        "#Arithmetic operation\n",
        "addition = a + b\n",
        "subtraction = a - b\n",
        "multiplicaton = a * b\n",
        "division = a / b\n",
        "\n",
        "#Print result\n",
        "print(\"Addition :\", addition, \"and data type :\", type(addition))\n",
        "print(\"Subtraction :\", addition, \"and data type :\", type(subtraction))\n",
        "print(\"Multiplication :\", addition, \"and data type :\", type(multiplicaton))\n",
        "print(f\"Division : {division:.2f} and data type : {type(division)}\")"
      ],
      "metadata": {
        "id": "Ap7sFFcr_II-",
        "colab": {
          "base_uri": "https://localhost:8080/"
        },
        "outputId": "98f44ac3-f23b-4f45-9acb-582dd559ee3a"
      },
      "execution_count": null,
      "outputs": [
        {
          "output_type": "stream",
          "name": "stdout",
          "text": [
            "Addition : 5.5 and data type : <class 'float'>\n",
            "Subtraction : 5.5 and data type : <class 'float'>\n",
            "Multiplication : 5.5 and data type : <class 'float'>\n",
            "Division : 0.57 and data type : <class 'float'>\n"
          ]
        }
      ]
    },
    {
      "cell_type": "markdown",
      "source": [
        "Large Integers & Type\n",
        "\n",
        "•\tAssign a very large integer to a variable (e.g., in the billions).\n",
        "\n",
        "•\tPrint it and confirm its type is still int in Python or not.\n"
      ],
      "metadata": {
        "id": "fm9hY68b_IWU"
      }
    },
    {
      "cell_type": "code",
      "source": [
        "num =67654356455\n",
        "print(\"Data type of\",num, \":\",type(num))"
      ],
      "metadata": {
        "id": "dFA8nOIO_Ifs",
        "colab": {
          "base_uri": "https://localhost:8080/"
        },
        "outputId": "74b8f48d-d477-4d4d-ffc6-2250d49f29ce"
      },
      "execution_count": null,
      "outputs": [
        {
          "output_type": "stream",
          "name": "stdout",
          "text": [
            "Data type of 67654356455 : <class 'int'>\n"
          ]
        }
      ]
    },
    {
      "cell_type": "markdown",
      "source": [
        "Complex Number Basics  \n",
        "\n",
        "•\tCreate a complex number z = 3 + 4j.\n",
        "\n",
        "•\tPrint its real part, imaginary part, and confirm its type is complex.\n",
        "\n",
        "•\tPerform a basic arithmetic operation with another complex number (e.g., (3 + 4j) + (1 + 2j)).\n"
      ],
      "metadata": {
        "id": "lrFX9F_N_I3B"
      }
    },
    {
      "cell_type": "code",
      "source": [
        "z = 3 + 4j\n",
        "y = 2 -3j\n",
        "print(\"Real part :\",z.real,\"\\nComplex part: \",z.imag,\"\\nData type of\",z,\"is\", type(z))\n",
        "print(f\"Addition between two complex {z} and {y} : {(z+y)}\")"
      ],
      "metadata": {
        "id": "WPsL_5dP_I-G",
        "colab": {
          "base_uri": "https://localhost:8080/"
        },
        "outputId": "d9a5b643-5124-4c6b-a5e0-b2b55ba2b783"
      },
      "execution_count": null,
      "outputs": [
        {
          "output_type": "stream",
          "name": "stdout",
          "text": [
            "Real part : 3.0 \n",
            "Complex part:  4.0 \n",
            "Data type of (3+4j) is <class 'complex'>\n",
            "Addition between two complex (3+4j) and (2-3j) : (5+1j)\n"
          ]
        }
      ]
    },
    {
      "cell_type": "markdown",
      "source": [],
      "metadata": {
        "id": "Yc5uOAwL_JGt"
      }
    },
    {
      "cell_type": "markdown",
      "source": [
        "Boolean from Comparisons\n",
        "\n",
        "•\tCreate two variables, m = 10 and n = 15.\n",
        "\n",
        "•\tDefine status = (m > n) and print status.\n",
        "\n",
        "•\tConfirm type(status) is bool.\n",
        "\n",
        "•\tAssign status = (m != n) and print again.\n"
      ],
      "metadata": {
        "id": "B6XYmRtm_JVN"
      }
    },
    {
      "cell_type": "code",
      "source": [
        "m = 10\n",
        "n = 15\n",
        "status = (m > n)\n",
        "print(\"Status of m > n :\",status, \"and data type \", type(status))\n",
        "status = (m != n)\n",
        "print(\"Status of m != n :\",status, \"and data type \", type(status))"
      ],
      "metadata": {
        "id": "oUeWK7xZ_JdY",
        "colab": {
          "base_uri": "https://localhost:8080/"
        },
        "outputId": "471ec436-9662-4fe6-9f93-08bcf94aa0d9"
      },
      "execution_count": null,
      "outputs": [
        {
          "output_type": "stream",
          "name": "stdout",
          "text": [
            "Status of m > n : False and data type  <class 'bool'>\n",
            "Status of m != n : True and data type  <class 'bool'>\n"
          ]
        }
      ]
    },
    {
      "cell_type": "markdown",
      "source": [
        "String Creation & Indexing\n",
        "\n",
        "•\tCreate a string text = \"HelloWorld\".\n",
        "\n",
        "•\tPrint the first and last characters using positive and negative indexing.\n",
        "\n",
        "•\tComment on the total length of the string.\n"
      ],
      "metadata": {
        "id": "GzYYzvkI_JsM"
      }
    },
    {
      "cell_type": "code",
      "source": [
        "text = \"HelloWorld\"\n",
        "print(\"First character using positive indexing :\",text[0])\n",
        "print(\"Last character using negative  indexing :\",text[-1])\n",
        "print(\"Total length of the string :\",len(text))"
      ],
      "metadata": {
        "id": "msHpc7zK_J5p",
        "colab": {
          "base_uri": "https://localhost:8080/"
        },
        "outputId": "588548d8-b210-4373-e380-9810dabaee49"
      },
      "execution_count": null,
      "outputs": [
        {
          "output_type": "stream",
          "name": "stdout",
          "text": [
            "First character using positive indexing : H\n",
            "Last character using negative  indexing : d\n",
            "Total length of the string : 10\n"
          ]
        }
      ]
    },
    {
      "cell_type": "markdown",
      "source": [],
      "metadata": {
        "id": "_zaN3E3A_KAU"
      }
    },
    {
      "cell_type": "markdown",
      "source": [
        "String Slicing\n",
        "\n",
        "•\tWith lang = \"PythonProgramming\", print the substring from index 2 to 8.\n",
        "\n",
        "•\tPrint the substring from the start up to index 5.\n",
        "\n",
        "•\tPrint the entire string in reverse using slicing.\n"
      ],
      "metadata": {
        "id": "7UBx7Tlo_KOe"
      }
    },
    {
      "cell_type": "code",
      "source": [
        "lang = \"PythonProgramming\"\n",
        "print(\"Susbstring from index 2 to 8 :\",lang[2:9])\n",
        "print(\"Substring from start to index 5 :\",lang[:6])\n",
        "print(\"Reverse string using slicing :\",lang[::-1])"
      ],
      "metadata": {
        "id": "URXp-gmv_KUz",
        "colab": {
          "base_uri": "https://localhost:8080/"
        },
        "outputId": "ed4c8c34-987a-49a2-c576-94671d5c2e28"
      },
      "execution_count": null,
      "outputs": [
        {
          "output_type": "stream",
          "name": "stdout",
          "text": [
            "Susbstring from index 2 to 8 : thonPro\n",
            "Substring from start to index 5 : Python\n",
            "Reverse string using slicing : gnimmargorPnohtyP\n"
          ]
        }
      ]
    },
    {
      "cell_type": "markdown",
      "source": [],
      "metadata": {
        "id": "undr8Lex_Kcg"
      }
    },
    {
      "cell_type": "markdown",
      "source": [
        "String Methods\n",
        "\n",
        "•\tLet phrase = \" Hello, Python World! \".\n",
        "\n",
        "•\tDemonstrate strip(), upper(), and replace() on this string.\n",
        "\n",
        "•\tPrint the results and comment on immutability of strings in Python.\n"
      ],
      "metadata": {
        "id": "NqzkILc6_Koc"
      }
    },
    {
      "cell_type": "code",
      "source": [
        "phrase = \" Hello, Python World! \"\n",
        "print(\"Original phrase :\",phrase)\n",
        "print(\"After strip :\",phrase.strip())\n",
        "print(\"After upper case :\",phrase.upper)\n",
        "print(\"After replacing :\",phrase.replace(\"Hello\",\"Hi\"))\n",
        "print(\"Original phrase :\",phrase) #strings are immutable and all the string methods returns new strings and the original phrase remains unchanged"
      ],
      "metadata": {
        "id": "8JhOPPph_KwZ",
        "colab": {
          "base_uri": "https://localhost:8080/"
        },
        "outputId": "69bbf0b1-2ad7-49d2-d243-4536b7624f0a"
      },
      "execution_count": null,
      "outputs": [
        {
          "output_type": "stream",
          "name": "stdout",
          "text": [
            "Original phrase :  Hello, Python World! \n",
            "After strip : Hello, Python World!\n",
            "After upper case : <built-in method upper of str object at 0x7a599eb83d20>\n",
            "After replacing :  Hi, Python World! \n",
            "Original phrase :  Hello, Python World! \n"
          ]
        }
      ]
    },
    {
      "cell_type": "markdown",
      "source": [
        "String Formatting\n",
        "\n",
        "•\tCreate two variables: name = \"Rajesh\" and score = 95.\n",
        "\n",
        "•\tPrint: \"Alice scored 95 points.\" using two methods (concatenation and an f-string or str.format()).\n"
      ],
      "metadata": {
        "id": "S7iLXHZK_K2c"
      }
    },
    {
      "cell_type": "code",
      "source": [
        "name, score = \"Rajesh\", 95\n",
        "print(name + \" scored \" + str(score) + \" points \") #score is converted in the string to do concantenation. Concateination is done only in strings\n",
        "print(f\"{name} scored {score} points\")"
      ],
      "metadata": {
        "id": "G_It_Q6i_K82",
        "colab": {
          "base_uri": "https://localhost:8080/"
        },
        "outputId": "f6da5927-8bee-47b2-9c1d-28cb8e815b4e"
      },
      "execution_count": null,
      "outputs": [
        {
          "output_type": "stream",
          "name": "stdout",
          "text": [
            "Rajesh scored 95 points \n",
            "Rajesh scored 95 points\n"
          ]
        }
      ]
    },
    {
      "cell_type": "markdown",
      "source": [
        "Boolean Operations in Expressions\n",
        "\n",
        "•\tWrite a small expression using and, or, and not with boolean values.\n",
        "\n",
        "•\tExample: result = not(True and False) or (5 > 3).\n",
        "\n",
        "•\tPrint result and explain how Python evaluated the expression.\n"
      ],
      "metadata": {
        "id": "ycbSGfli_LEp"
      }
    },
    {
      "cell_type": "code",
      "source": [
        "result = not(True and False) or (5 > 3)\n",
        "print(\"Result :\",result) #python uses logical operator precedence where not evaluated at first"
      ],
      "metadata": {
        "id": "hAi_A_Oi_LLJ",
        "colab": {
          "base_uri": "https://localhost:8080/"
        },
        "outputId": "5b541038-6e41-4109-f18b-0967f855f70e"
      },
      "execution_count": null,
      "outputs": [
        {
          "output_type": "stream",
          "name": "stdout",
          "text": [
            "Result : True\n"
          ]
        }
      ]
    },
    {
      "cell_type": "markdown",
      "source": [
        "List Creation & Access\n",
        "\n",
        "•\tCreate a list of 5 different integers.\n",
        "\n",
        "•\tPrint the first item, middle item, and last item using indexing.\n"
      ],
      "metadata": {
        "id": "Qd3G21nm_LgR"
      }
    },
    {
      "cell_type": "code",
      "source": [
        "num = [1,2,3,4,5]\n",
        "print(f\"First item : {num[0]} \\nSecond item : {num[2]} \\nLast item : {num[-1]}\")"
      ],
      "metadata": {
        "id": "3vTeFHm0_Lm-",
        "colab": {
          "base_uri": "https://localhost:8080/"
        },
        "outputId": "721fe03f-82a8-4f7d-cfa1-9e3e6945c8fb"
      },
      "execution_count": null,
      "outputs": [
        {
          "output_type": "stream",
          "name": "stdout",
          "text": [
            "First item : 1 \n",
            "Second item : 3 \n",
            "Last item : 5\n"
          ]
        }
      ]
    },
    {
      "cell_type": "markdown",
      "source": [
        "List Insertion & Deletion\n",
        "\n",
        "•\tStart with a list nums = [10, 20, 30, 40].\n",
        "\n",
        "•\tInsert 25 at index 2.\n",
        "\n",
        "•\tRemove the last element.\n",
        "\n",
        "•\tPrint the updated list.\n"
      ],
      "metadata": {
        "id": "xeTFKPfJ_Ltm"
      }
    },
    {
      "cell_type": "code",
      "source": [
        "nums = [10, 20, 30, 40]\n",
        "print(f\"Original list : {nums}\")\n",
        "nums.insert(2,25) #insert 25 at the index 2\n",
        "nums.remove(40)\n",
        "print(f\"Updated list : {nums}\")"
      ],
      "metadata": {
        "id": "2g45g0am_L0K",
        "colab": {
          "base_uri": "https://localhost:8080/"
        },
        "outputId": "adb6f74c-c5ca-44af-d22f-3cbf15b0d918"
      },
      "execution_count": null,
      "outputs": [
        {
          "output_type": "stream",
          "name": "stdout",
          "text": [
            "Original list : [10, 20, 30, 40]\n",
            "Updated list : [10, 20, 25, 30]\n"
          ]
        }
      ]
    },
    {
      "cell_type": "markdown",
      "source": [
        "List Slicing\n",
        "\n",
        "•\tGiven letters = [\"a\", \"b\", \"c\", \"d\", \"e\"], print the slice that contains only [\"b\", \"c\", \"d\"].\n",
        "\n",
        "•\tPrint the slice that omits the first and the last element.\n"
      ],
      "metadata": {
        "id": "s4Stw6XL_L7R"
      }
    },
    {
      "cell_type": "code",
      "source": [
        "letters = [\"a\", \"b\", \"c\", \"d\", \"e\"]\n",
        "print(f\"Sliced letters : {letters[1:4]}\")\n",
        "print(f\"List that omits first and last element : {letters[1:-1]}\")"
      ],
      "metadata": {
        "id": "xi7YQuAR_MDY",
        "colab": {
          "base_uri": "https://localhost:8080/"
        },
        "outputId": "694457b4-5950-49d4-e06b-f445986ccb96"
      },
      "execution_count": null,
      "outputs": [
        {
          "output_type": "stream",
          "name": "stdout",
          "text": [
            "Sliced letters : ['b', 'c', 'd']\n",
            "List that omits first and last element : ['b', 'c', 'd']\n"
          ]
        }
      ]
    },
    {
      "cell_type": "markdown",
      "source": [
        "Sorting & Reversing\n",
        "\n",
        "•\tCreate a list of random integers.\n",
        "\n",
        "•\tSort the list in ascending order and print it.\n",
        "\n",
        "•\tReverse the sorted list and print again.\n"
      ],
      "metadata": {
        "id": "p09Fai27_MJ3"
      }
    },
    {
      "cell_type": "code",
      "source": [
        "num = [4,3,7,5,23,45,2]\n",
        "num.sort()\n",
        "print(f\"List in ascending order : {num}\")\n",
        "print(f\"Reversed list : {num[::-1]}\") #we can also reverse using .reverse()"
      ],
      "metadata": {
        "id": "_OOQBFB8_MQ5",
        "colab": {
          "base_uri": "https://localhost:8080/"
        },
        "outputId": "350be279-965d-41b7-87ae-aab7ad8745f5"
      },
      "execution_count": null,
      "outputs": [
        {
          "output_type": "stream",
          "name": "stdout",
          "text": [
            "List in ascending order : [2, 3, 4, 5, 7, 23, 45]\n",
            "Reversed list : [45, 23, 7, 5, 4, 3, 2]\n"
          ]
        }
      ]
    },
    {
      "cell_type": "markdown",
      "source": [
        "Combining Lists\n",
        "\n",
        "•\tLet list1 = [1, 2, 3] and list2 = [4, 5, 6].\n",
        "\n",
        "•\tCombine them into a single list and print.\n",
        "\n",
        "•\tDemonstrate two ways: using + and using .extend().\n"
      ],
      "metadata": {
        "id": "mXPFOvGi_MXL"
      }
    },
    {
      "cell_type": "code",
      "source": [
        "list1 = [1, 2, 3]\n",
        "list2 = [4, 5, 6]\n",
        "print(f\"Combined list : {list1 + list2}\")\n",
        "list1.extend(list2)\n",
        "print(f\"Combined list using extend() : {list1}\")"
      ],
      "metadata": {
        "id": "CqOp_3at_Mst",
        "colab": {
          "base_uri": "https://localhost:8080/"
        },
        "outputId": "0661635b-5a9d-47d8-9bb1-7f535102d727"
      },
      "execution_count": null,
      "outputs": [
        {
          "output_type": "stream",
          "name": "stdout",
          "text": [
            "Combined list : [1, 2, 3, 4, 5, 6]\n",
            "Combined list using extend() : [1, 2, 3, 4, 5, 6]\n"
          ]
        }
      ]
    },
    {
      "cell_type": "markdown",
      "source": [
        "Aggregating List Values\n",
        "\n",
        "•\tCreate a list of floats, e.g., [2.5, 3.6, 1.2, 5.0].\n",
        "\n",
        "•\tPrint the sum, minimum, and maximum of that list using built-in functions.\n"
      ],
      "metadata": {
        "id": "_YYNGO60_MzR"
      }
    },
    {
      "cell_type": "code",
      "source": [
        "nums = [2.5, 3.6, 1.2, 5.0]\n",
        "summed_nums = sum(nums)\n",
        "minimum_nums = min(nums)\n",
        "maximum_nums = max(nums)\n",
        "print(f\"Sum : {summed_nums} \\nMinimum number : {minimum_nums} \\nMaximum number : {maximum_nums}\")"
      ],
      "metadata": {
        "id": "SpWjI61R_M5-",
        "colab": {
          "base_uri": "https://localhost:8080/"
        },
        "outputId": "ab4ba60c-00bb-4edc-9d45-5ace0e5c0da8"
      },
      "execution_count": null,
      "outputs": [
        {
          "output_type": "stream",
          "name": "stdout",
          "text": [
            "Sum : 12.3 \n",
            "Minimum number : 1.2 \n",
            "Maximum number : 5.0\n"
          ]
        }
      ]
    },
    {
      "cell_type": "markdown",
      "source": [
        "Tuple Creation\n",
        "\n",
        "•\tCreate a tuple t = (10, 20, \"Hello\", True).\n",
        "\n",
        "•\tPrint the tuple and confirm its type with type(t).\n"
      ],
      "metadata": {
        "id": "u-Vj87iW_NLa"
      }
    },
    {
      "cell_type": "code",
      "source": [
        "t = (10, 20, \"Hello\", True)\n",
        "print(f\"Tuple : {t} and type : {type(t)}\")"
      ],
      "metadata": {
        "id": "5EP2npht_NQ5",
        "colab": {
          "base_uri": "https://localhost:8080/"
        },
        "outputId": "5240b6fb-bc47-45be-e8f1-a23ee5e6f492"
      },
      "execution_count": null,
      "outputs": [
        {
          "output_type": "stream",
          "name": "stdout",
          "text": [
            "Tuple : (10, 20, 'Hello', True) and type : <class 'tuple'>\n"
          ]
        }
      ]
    },
    {
      "cell_type": "markdown",
      "source": [
        "Tuple Indexing & Slicing\n",
        "\n",
        "•\tPrint the first two elements of t using slicing.\n",
        "\n",
        "•\tPrint the last element of t using negative indexing.\n"
      ],
      "metadata": {
        "id": "34olRsDTCc5N"
      }
    },
    {
      "cell_type": "code",
      "source": [
        "t = (10, 20, \"Hello\", True)\n",
        "print(f\"Two element of t using slicing : {t[:2]}\")\n",
        "print(f\"Last element of t using negative indexing : {t[-1]}\")"
      ],
      "metadata": {
        "id": "EA5eKrtsCdG9",
        "colab": {
          "base_uri": "https://localhost:8080/"
        },
        "outputId": "b6251ed6-6a58-4fd6-f4ff-c09a548bf1ed"
      },
      "execution_count": null,
      "outputs": [
        {
          "output_type": "stream",
          "name": "stdout",
          "text": [
            "Two element of t using slicing (10, 20)\n",
            "Last element of t using negative indexing True\n"
          ]
        }
      ]
    },
    {
      "cell_type": "markdown",
      "source": [
        "Tuple Unpacking\n",
        "\n",
        "•\tSuppose t2 = (\"Tom\", 25, \"Engineer\").\n",
        "\n",
        "•\tUnpack it into three separate variables: name, age, profession.\n",
        "\n",
        "•\tPrint these variables individually.\n"
      ],
      "metadata": {
        "id": "vhExdPrICdcp"
      }
    },
    {
      "cell_type": "code",
      "source": [
        "t2 = (\"Tom\", 25, \"Engineer\")\n",
        "ta, tb, tc = t2\n",
        "print(ta)\n",
        "print(tb)\n",
        "print(tc)"
      ],
      "metadata": {
        "id": "LHKoFYmVCdiO",
        "colab": {
          "base_uri": "https://localhost:8080/"
        },
        "outputId": "2a9fd117-d562-47ce-d37d-cc66b0c9550a"
      },
      "execution_count": null,
      "outputs": [
        {
          "output_type": "stream",
          "name": "stdout",
          "text": [
            "Tom\n",
            "25\n",
            "Engineer\n"
          ]
        }
      ]
    },
    {
      "cell_type": "markdown",
      "source": [
        "Attempt Tuple Mutation\n",
        "\n",
        "•\tTry to change an element of t (t[0] = 999) and observe the error.\n",
        "\n",
        "•\tIn comments, explain why the error occurs.\n"
      ],
      "metadata": {
        "id": "DT7Zyqz6CdpJ"
      }
    },
    {
      "cell_type": "code",
      "source": [
        " t[0] = 999 #tuple is immutable that is way we cannot assign the value"
      ],
      "metadata": {
        "id": "RaDJe9ChCduz",
        "colab": {
          "base_uri": "https://localhost:8080/",
          "height": 141
        },
        "outputId": "1abd61c7-b3e0-49c3-9984-863cb6f816d4"
      },
      "execution_count": null,
      "outputs": [
        {
          "output_type": "error",
          "ename": "TypeError",
          "evalue": "'tuple' object does not support item assignment",
          "traceback": [
            "\u001b[0;31m---------------------------------------------------------------------------\u001b[0m",
            "\u001b[0;31mTypeError\u001b[0m                                 Traceback (most recent call last)",
            "\u001b[0;32m/tmp/ipython-input-52-1099035537.py\u001b[0m in \u001b[0;36m<cell line: 0>\u001b[0;34m()\u001b[0m\n\u001b[0;32m----> 1\u001b[0;31m \u001b[0mt\u001b[0m\u001b[0;34m[\u001b[0m\u001b[0;36m0\u001b[0m\u001b[0;34m]\u001b[0m \u001b[0;34m=\u001b[0m \u001b[0;36m999\u001b[0m \u001b[0;31m#tuple is immutable that is way we cannot assign the value\u001b[0m\u001b[0;34m\u001b[0m\u001b[0;34m\u001b[0m\u001b[0m\n\u001b[0m",
            "\u001b[0;31mTypeError\u001b[0m: 'tuple' object does not support item assignment"
          ]
        }
      ]
    },
    {
      "cell_type": "markdown",
      "source": [
        "Set Creation & Membership\n",
        "\n",
        "•\tCreate a set my_set = {1, 3, 5, 7}.\n",
        "\n",
        "•\tCheck if 5 is in my_set.\n",
        "\n",
        "•\tCheck if 2 is not in my_set.\n"
      ],
      "metadata": {
        "id": "YVi6_CuBCd09"
      }
    },
    {
      "cell_type": "code",
      "source": [
        "my_set = {1, 3, 5, 7}\n",
        "print(f\"Is 5 in my_set : {5 in my_set}\")\n",
        "print(f\"Is 2 not in my_set : {2 not in my_set}\")"
      ],
      "metadata": {
        "id": "LSC5BZKGCd7I",
        "colab": {
          "base_uri": "https://localhost:8080/"
        },
        "outputId": "7f06fa6a-85ad-495f-e470-ab2cba5f7b16"
      },
      "execution_count": null,
      "outputs": [
        {
          "output_type": "stream",
          "name": "stdout",
          "text": [
            "Is 5 in my_set : True\n",
            "Is 2 not in my_set : True\n"
          ]
        }
      ]
    },
    {
      "cell_type": "markdown",
      "source": [
        "Add & Remove Elements\n",
        "\n",
        "•\tAdd 9 to my_set.\n",
        "\n",
        "•\tRemove 3 from my_set.\n",
        "\n",
        "•\tPrint the updated set.\n"
      ],
      "metadata": {
        "id": "HImWPczZCeCG"
      }
    },
    {
      "cell_type": "markdown",
      "source": [],
      "metadata": {
        "id": "ILvSio0CCeQE"
      }
    },
    {
      "cell_type": "code",
      "source": [
        "my_set = {1, 3, 5, 7}\n",
        "my_set.add(9)\n",
        "my_set.remove(3)\n",
        "print(f\"Updated set : {my_set}\")"
      ],
      "metadata": {
        "id": "plzmjpqsCeVq",
        "colab": {
          "base_uri": "https://localhost:8080/"
        },
        "outputId": "ed471281-5453-4c49-cde2-7d49a80f83f8"
      },
      "execution_count": null,
      "outputs": [
        {
          "output_type": "stream",
          "name": "stdout",
          "text": [
            "Updated set : {1, 5, 7, 9}\n"
          ]
        }
      ]
    },
    {
      "cell_type": "markdown",
      "source": [
        "Set Operations\n",
        "\n",
        "•\tCreate two sets: setA = {1, 2, 3} and setB = {3, 4, 5}.\n",
        "\n",
        "•\tPrint the union, intersection, and difference (setA - setB).\n"
      ],
      "metadata": {
        "id": "7TYj5oosCebc"
      }
    },
    {
      "cell_type": "code",
      "source": [
        "setA = {1, 2, 3}\n",
        "setB = {3, 4, 5}\n",
        "union_set = setA.union(setB)\n",
        "intersection_set = setA.intersection(setB)\n",
        "difference_set = setA.difference(setB)\n",
        "print(f\"Union set : {union_set}\")\n",
        "print(f\"Intersection set : {intersection_set}\")\n",
        "print(f\"Difference set : {difference_set}\")"
      ],
      "metadata": {
        "id": "Li0WDvmGCeiP",
        "colab": {
          "base_uri": "https://localhost:8080/"
        },
        "outputId": "38103176-e5e3-4ecf-a3b3-63f220373bb4"
      },
      "execution_count": null,
      "outputs": [
        {
          "output_type": "stream",
          "name": "stdout",
          "text": [
            "Union set : {1, 2, 3, 4, 5}\n",
            "Intersection set : {3}\n",
            "Difference set : {1, 2}\n"
          ]
        }
      ]
    },
    {
      "cell_type": "markdown",
      "source": [
        "Check Unique Values\n",
        "\n",
        "•\tDefine a list vals = [1, 2, 2, 3, 3, 3, 4].\n",
        "\n",
        "•\tConvert it to a set.\n",
        "\n",
        "•\tPrint both the list and the set to show how duplicates are removed.\n"
      ],
      "metadata": {
        "id": "gTQ36xScCeoJ"
      }
    },
    {
      "cell_type": "code",
      "source": [
        "vals = [1, 2, 2, 3, 3, 3, 4]\n",
        "converted_list = set(vals)\n",
        "print(f\"List : {vals}\")\n",
        "print(f\"set : {converted_list}\") # set automatically removes the duplicate value and stores only unique number"
      ],
      "metadata": {
        "id": "lnZYnf4FCeuR",
        "colab": {
          "base_uri": "https://localhost:8080/"
        },
        "outputId": "1780d12e-0122-4eda-8b61-a68a7b635566"
      },
      "execution_count": null,
      "outputs": [
        {
          "output_type": "stream",
          "name": "stdout",
          "text": [
            "List : [1, 2, 2, 3, 3, 3, 4]\n",
            "set : {1, 2, 3, 4}\n"
          ]
        }
      ]
    },
    {
      "cell_type": "markdown",
      "source": [
        "Frozenset Creation\n",
        "\n",
        "•\tCreate a frozenset from a list [2, 4, 4, 6].\n",
        "\n",
        "•\tPrint it and observe whether duplicates are preserved.\n"
      ],
      "metadata": {
        "id": "wFqEdrBPCe1d"
      }
    },
    {
      "cell_type": "code",
      "source": [
        "li = [2,4,4,6]\n",
        "forzen_set = frozenset(li)\n",
        "print(\"Frozen set :\", forzen_set) # like set, forzen set does not allow duplicate elements and frozen set is immutable version of set"
      ],
      "metadata": {
        "id": "IdlTmZB3Ce7Z",
        "colab": {
          "base_uri": "https://localhost:8080/"
        },
        "outputId": "926221d8-e86a-4ed0-8ac9-c52764b6a896"
      },
      "execution_count": null,
      "outputs": [
        {
          "output_type": "stream",
          "name": "stdout",
          "text": [
            "Frozen set : frozenset({2, 4, 6})\n"
          ]
        }
      ]
    },
    {
      "cell_type": "markdown",
      "source": [
        "Immutability Demonstration\n",
        "\n",
        "•\tAttempt to add an element to your frozenset.\n",
        "\n",
        "•\tObserve and explain the error in comments.\n"
      ],
      "metadata": {
        "id": "4dXNaaNDCfBR"
      }
    },
    {
      "cell_type": "code",
      "source": [
        "frozenset.add(9) #once frozen set is created it becomes immutable as we cannot change its element whether we remove or add the element"
      ],
      "metadata": {
        "id": "pxj9pJA-CfG5",
        "colab": {
          "base_uri": "https://localhost:8080/",
          "height": 141
        },
        "outputId": "384bd15b-69a6-4b1d-c077-4ff49abe428f"
      },
      "execution_count": null,
      "outputs": [
        {
          "output_type": "error",
          "ename": "AttributeError",
          "evalue": "type object 'frozenset' has no attribute 'add'",
          "traceback": [
            "\u001b[0;31m---------------------------------------------------------------------------\u001b[0m",
            "\u001b[0;31mAttributeError\u001b[0m                            Traceback (most recent call last)",
            "\u001b[0;32m/tmp/ipython-input-64-1701073750.py\u001b[0m in \u001b[0;36m<cell line: 0>\u001b[0;34m()\u001b[0m\n\u001b[0;32m----> 1\u001b[0;31m \u001b[0mfrozenset\u001b[0m\u001b[0;34m.\u001b[0m\u001b[0madd\u001b[0m\u001b[0;34m(\u001b[0m\u001b[0;36m9\u001b[0m\u001b[0;34m)\u001b[0m\u001b[0;34m\u001b[0m\u001b[0;34m\u001b[0m\u001b[0m\n\u001b[0m",
            "\u001b[0;31mAttributeError\u001b[0m: type object 'frozenset' has no attribute 'add'"
          ]
        }
      ]
    },
    {
      "cell_type": "markdown",
      "source": [
        "Frozenset Use as a Dictionary Key\n",
        "\n",
        "•\tCreate a dictionary where the key is your frozenset, e.g., my_dict = {frozenset([1,2,3]): \"value\"}.\n",
        "\n",
        "•\tPrint my_dict and explain why a normal set cannot be used as a key.\n"
      ],
      "metadata": {
        "id": "tS53Umq_CfOx"
      }
    },
    {
      "cell_type": "code",
      "source": [
        "my_dict = {frozenset([1,2,3]): \"value\"}\n",
        "print(my_dict) #normal set cannot be used as a key because it is mutable and hashable"
      ],
      "metadata": {
        "id": "oZMmMeD0CfUN",
        "colab": {
          "base_uri": "https://localhost:8080/"
        },
        "outputId": "ff5cfab8-3b70-4717-ffc9-2dc18d195d42"
      },
      "execution_count": null,
      "outputs": [
        {
          "output_type": "stream",
          "name": "stdout",
          "text": [
            "{frozenset({1, 2, 3}): 'value'}\n"
          ]
        }
      ]
    },
    {
      "cell_type": "markdown",
      "source": [
        "Dictionary Creation & Access\n",
        "\n",
        "•\tCreate a dictionary student = {\"name\": \"Ramesh\", \"age\": 20, \"grade\": \"A\"}.\n",
        "\n",
        "•\tPrint the value of \"name\" and \"age\" individually.\n"
      ],
      "metadata": {
        "id": "Qr8KgR8GCfZl"
      }
    },
    {
      "cell_type": "code",
      "source": [
        "student = {\"name\": \"Ramesh\", \"age\": 20, \"grade\": \"A\"}\n",
        "print(f\"Name of the student : {student['name']}\")\n",
        "print(\"Age of the student :\",student['age'])"
      ],
      "metadata": {
        "id": "V4KZrm8LCfe1",
        "colab": {
          "base_uri": "https://localhost:8080/"
        },
        "outputId": "721555ae-9356-4c78-ff9e-2f22a89c2901"
      },
      "execution_count": null,
      "outputs": [
        {
          "output_type": "stream",
          "name": "stdout",
          "text": [
            "Name of the student : Ramesh\n",
            "Age of the student : 20\n"
          ]
        }
      ]
    },
    {
      "cell_type": "markdown",
      "source": [
        "Adding & Updating Keys\n",
        "\n",
        "•\tAdd a new key-value pair: \"city\": \"Kathmandu\" to student.\n",
        "\n",
        "•\tUpdate \"age\" to 21.\n",
        "\n",
        "•\tPrint the dictionary.\n"
      ],
      "metadata": {
        "id": "4M87a19tCfkK"
      }
    },
    {
      "cell_type": "code",
      "source": [
        "student = {\"name\": \"Ramesh\", \"age\": 20, \"grade\": \"A\"}\n",
        "student['city'] = \"kathmandu\"\n",
        "student['age'] = 21\n",
        "print(f\"Updated student : {student}\")"
      ],
      "metadata": {
        "id": "-haSJlwICfo6",
        "colab": {
          "base_uri": "https://localhost:8080/"
        },
        "outputId": "b925159c-b7d9-43e2-ba6d-ee39e4d1ce60"
      },
      "execution_count": null,
      "outputs": [
        {
          "output_type": "stream",
          "name": "stdout",
          "text": [
            "Updated student : {'name': 'Ramesh', 'age': 21, 'grade': 'A', 'city': 'kathmandu'}\n"
          ]
        }
      ]
    },
    {
      "cell_type": "markdown",
      "source": [
        "Removing Keys\n",
        "\n",
        "•\tRemove the \"grade\" key from student.\n",
        "\n",
        "•\tPrint the resulting dictionary.\n"
      ],
      "metadata": {
        "id": "GK0CQWakCfuB"
      }
    },
    {
      "cell_type": "code",
      "source": [
        "\n",
        "print(\"Student :\",student)\n",
        "del student[\"grade\"] # we can also use pop() as student.pop['grade]\n",
        "print(f\"Final student : {student}\")"
      ],
      "metadata": {
        "id": "a-PF_5ITCfy3",
        "colab": {
          "base_uri": "https://localhost:8080/"
        },
        "outputId": "d0ea2ae5-b56d-4b05-f55e-2841b3bcc3ed"
      },
      "execution_count": null,
      "outputs": [
        {
          "output_type": "stream",
          "name": "stdout",
          "text": [
            "Student : {'name': 'Ramesh', 'age': 21, 'grade': 'A', 'city': 'kathmandu'}\n",
            "Final student : {'name': 'Ramesh', 'age': 21, 'city': 'kathmandu'}\n"
          ]
        }
      ]
    },
    {
      "cell_type": "markdown",
      "source": [
        "Nested Dictionary Example\n",
        "\n",
        "•\tCreate a dictionary record = {\"id\": 101, \"info\": {\"name\": \"Bob\", \"dept\": \"IT\"}}.\n",
        "\n",
        "•\tPrint the department of Bob.\n"
      ],
      "metadata": {
        "id": "0gdHLvI4Cf4H"
      }
    },
    {
      "cell_type": "code",
      "source": [
        "record = {\"id\": 101, \"info\": {\"name\": \"Bob\", \"dept\": \"IT\"}}\n",
        "print(f\"Department of Bob : {record['info']['dept']}\")"
      ],
      "metadata": {
        "id": "lfcxCDQ0Cf9W",
        "colab": {
          "base_uri": "https://localhost:8080/"
        },
        "outputId": "4a99a4e2-6130-40eb-82ec-f17a59a4a5b1"
      },
      "execution_count": null,
      "outputs": [
        {
          "output_type": "stream",
          "name": "stdout",
          "text": [
            "Department of Bob : IT\n"
          ]
        }
      ]
    },
    {
      "cell_type": "markdown",
      "source": [
        "Operator Precedence\n",
        "\n",
        "•\tDefine a = 4, b = 2, c = 5.\n",
        "\n",
        "•\tPrint the result of a + b * c vs. (a + b) * c.\n",
        "\n",
        "•\tExplain in comments how the result differs.\n"
      ],
      "metadata": {
        "id": "U3gASNCkCgC-"
      }
    },
    {
      "cell_type": "code",
      "source": [
        "a,b,c = 4,2,5\n",
        "print(\"a+b*c :\",a+b*c)\n",
        "print(\"(a+b)*c :\",(a+b)*c) # operator precedence follow the BODMAS rule"
      ],
      "metadata": {
        "id": "S65qno9pCgHl",
        "colab": {
          "base_uri": "https://localhost:8080/"
        },
        "outputId": "8e05c426-fdc0-471a-d546-2fe2b8b1006c"
      },
      "execution_count": null,
      "outputs": [
        {
          "output_type": "stream",
          "name": "stdout",
          "text": [
            "a+b*c : 14\n",
            "(a+b)*c : 30\n"
          ]
        }
      ]
    },
    {
      "cell_type": "markdown",
      "source": [
        "Modulo & Floor Division\n",
        "\n",
        "•\tLet x = 17 and y = 4.\n",
        "\n",
        "•\tPrint x % y and x // y.\n",
        "\n",
        "•\tExplain the difference between these two operators in comments.\n"
      ],
      "metadata": {
        "id": "eZZmEo-ZChYZ"
      }
    },
    {
      "cell_type": "code",
      "source": [
        "x, y = 17, 4\n",
        "print(\"x % y :\",x % y) # gives the remainder of the division\n",
        "print(\"x / y :\",x // y ) # gives the integer part of the division"
      ],
      "metadata": {
        "id": "7hQ2z1OBCheh",
        "colab": {
          "base_uri": "https://localhost:8080/"
        },
        "outputId": "fbcecf06-e73d-412c-d418-6aaefd5bba3b"
      },
      "execution_count": null,
      "outputs": [
        {
          "output_type": "stream",
          "name": "stdout",
          "text": [
            "x % y : 1\n",
            "x / y : 4\n"
          ]
        }
      ]
    },
    {
      "cell_type": "markdown",
      "source": [
        "Power Operator\n",
        "\n",
        "•\tPrint the result of 2 ** 3.\n",
        "\n",
        "•\tWrite a line to calculate 3 ** 4.\n",
        "\n",
        "•\tPrint the addition of both.\n"
      ],
      "metadata": {
        "id": "KDMNaDj8Chj4"
      }
    },
    {
      "cell_type": "code",
      "source": [
        "a = 2**3\n",
        "b = 3**4\n",
        "addition = a + b\n",
        "print(\"Result of 2**3 :\",a)\n",
        "print(\"Result of addition :\",addition)"
      ],
      "metadata": {
        "id": "v9QxPnzxChrV",
        "colab": {
          "base_uri": "https://localhost:8080/"
        },
        "outputId": "30dd0f36-778b-4341-84c9-da2eedc7af10"
      },
      "execution_count": null,
      "outputs": [
        {
          "output_type": "stream",
          "name": "stdout",
          "text": [
            "Result of 2**3 : 8\n",
            "Result of addition : 89\n"
          ]
        }
      ]
    },
    {
      "cell_type": "markdown",
      "source": [
        "String Comparison\n",
        "\n",
        "•\tCompare \"apple\" and \"banana\" with <, >, and ==.\n",
        "\n",
        "•\tPrint the results.\n"
      ],
      "metadata": {
        "id": "4hbLzZCtFLSo"
      }
    },
    {
      "cell_type": "code",
      "source": [
        "print(\"apple\" > \"banana\") #compares the string(each character) based on their unicode\n",
        "print(\"apple\" < \"banana\")\n",
        "print(\"apple\" == \"banana\")"
      ],
      "metadata": {
        "id": "D6ktPbKIFLzZ",
        "colab": {
          "base_uri": "https://localhost:8080/"
        },
        "outputId": "848dd91f-f814-4433-b3cc-d2754f331723"
      },
      "execution_count": null,
      "outputs": [
        {
          "output_type": "stream",
          "name": "stdout",
          "text": [
            "False\n",
            "True\n",
            "False\n"
          ]
        }
      ]
    },
    {
      "cell_type": "markdown",
      "source": [
        "Mixed Type Comparison\n",
        "\n",
        "•\tCompare 5 and 5.0 with ==.\n",
        "\n",
        "•\tCompare 5 and 5.0 with is.\n",
        "\n",
        "•\tDiscuss the results in comment.\n"
      ],
      "metadata": {
        "id": "2s87w20PFMGW"
      }
    },
    {
      "cell_type": "code",
      "source": [
        "print(5 == 5.0) # true because the value is same and checks only the value\n",
        "print(5 is 5.0) # checks the memory location and they are different data types and are stored in different memory location which occurs false"
      ],
      "metadata": {
        "id": "ZnSE-ql1FMSt",
        "colab": {
          "base_uri": "https://localhost:8080/"
        },
        "outputId": "277d6d5f-d14b-4e02-938a-09cef667d27b"
      },
      "execution_count": null,
      "outputs": [
        {
          "output_type": "stream",
          "name": "stdout",
          "text": [
            "True\n",
            "False\n"
          ]
        },
        {
          "output_type": "stream",
          "name": "stderr",
          "text": [
            "<>:2: SyntaxWarning: \"is\" with a literal. Did you mean \"==\"?\n",
            "<>:2: SyntaxWarning: \"is\" with a literal. Did you mean \"==\"?\n",
            "/tmp/ipython-input-10-1908958441.py:2: SyntaxWarning: \"is\" with a literal. Did you mean \"==\"?\n",
            "  print(5 is 5.0) # checks the memory location and they are different data types and are stored in different memory location which occurs false\n"
          ]
        }
      ]
    },
    {
      "cell_type": "markdown",
      "source": [
        "Chain Comparisons\n",
        "\n",
        "•\tEvaluate the expression 2 < 3 < 5.\n",
        "\n",
        "•\tPrint the result and explain how Python handles chained comparisons.\n"
      ],
      "metadata": {
        "id": "IaJng1d6FMYV"
      }
    },
    {
      "cell_type": "code",
      "source": [
        "print(2 < 3 < 5) #python checks the expression as (2 < 5) and (3 < 5) which leads to true"
      ],
      "metadata": {
        "id": "nVS2-rboFMfP",
        "colab": {
          "base_uri": "https://localhost:8080/"
        },
        "outputId": "da1e73b6-1c03-4a64-eb54-07d44c8c66db"
      },
      "execution_count": null,
      "outputs": [
        {
          "output_type": "stream",
          "name": "stdout",
          "text": [
            "True\n"
          ]
        }
      ]
    },
    {
      "cell_type": "markdown",
      "source": [
        "Logical and\n",
        "\n",
        "•\tDefine p = True and q = False.\n",
        "\n",
        "•\tPrint p and q.\n",
        "\n",
        "•\tDemonstrate a real-world example: (age > 18) and (has_ID == True).\n"
      ],
      "metadata": {
        "id": "pkNdsyv9FMl5"
      }
    },
    {
      "cell_type": "code",
      "source": [
        "p = True\n",
        "q = False\n",
        "print(p and q)\n",
        "\n",
        "age = 24\n",
        "has_ID = True\n",
        "print(age > 18 and has_ID == True)"
      ],
      "metadata": {
        "id": "Td3Bmc8MFMrt",
        "colab": {
          "base_uri": "https://localhost:8080/"
        },
        "outputId": "56ee6480-8777-4ed2-f3a5-1491789bf14f"
      },
      "execution_count": null,
      "outputs": [
        {
          "output_type": "stream",
          "name": "stdout",
          "text": [
            "False\n",
            "True\n"
          ]
        }
      ]
    },
    {
      "cell_type": "markdown",
      "source": [
        "Logical or\n",
        "\n",
        "•\tUsing the same p and q, print p or q.\n"
      ],
      "metadata": {
        "id": "4obBp1xEFMzm"
      }
    },
    {
      "cell_type": "code",
      "source": [
        "print(p or q)"
      ],
      "metadata": {
        "id": "JXW2wXUkFM7-",
        "colab": {
          "base_uri": "https://localhost:8080/"
        },
        "outputId": "7c6f9f3c-70fe-4980-9b44-5d34f2c9677e"
      },
      "execution_count": null,
      "outputs": [
        {
          "output_type": "stream",
          "name": "stdout",
          "text": [
            "True\n"
          ]
        }
      ]
    },
    {
      "cell_type": "markdown",
      "source": [
        "Logical not\n",
        "\n",
        "•\tLet r = (10 > 5).\n",
        "\n",
        "•\tPrint r, then print not r.\n"
      ],
      "metadata": {
        "id": "NFc6vqziFNCl"
      }
    },
    {
      "cell_type": "code",
      "source": [
        "r = (10 > 5) # it gives true because 10 is greater than 5\n",
        "print(r)"
      ],
      "metadata": {
        "id": "aoMKakTFFNK5",
        "colab": {
          "base_uri": "https://localhost:8080/"
        },
        "outputId": "b97d5f92-a3e7-494c-cf00-2a03a3eeaa4d"
      },
      "execution_count": null,
      "outputs": [
        {
          "output_type": "stream",
          "name": "stdout",
          "text": [
            "True\n"
          ]
        }
      ]
    },
    {
      "cell_type": "markdown",
      "source": [
        "Using len()\n",
        "\n",
        "•\tCreate a list with 7 elements.\n",
        "\n",
        "•\tUse len() to get the total count.\n",
        "\n",
        "•\tPrint the result.\n"
      ],
      "metadata": {
        "id": "CS69ZvS-FNTh"
      }
    },
    {
      "cell_type": "code",
      "source": [
        "my_list = [2,3,5,4,7,6,8]\n",
        "list_len = len(my_list)\n",
        "print(f\"Length of list is {list_len}\")"
      ],
      "metadata": {
        "id": "70ibpb0RFNf2",
        "colab": {
          "base_uri": "https://localhost:8080/"
        },
        "outputId": "fcd50382-0780-4e4a-a5e8-460438e31d32"
      },
      "execution_count": null,
      "outputs": [
        {
          "output_type": "stream",
          "name": "stdout",
          "text": [
            "Length of list is 7\n"
          ]
        }
      ]
    },
    {
      "cell_type": "markdown",
      "source": [
        "Using type()\n",
        "\n",
        "•\tFor each of the following: 10, 10.5, \"ten\", True, 3+2j, print type(...).\n",
        "\n",
        "•\tSummarize in comments the data types you observed.\n"
      ],
      "metadata": {
        "id": "HQHtwc4WFNnB"
      }
    },
    {
      "cell_type": "code",
      "source": [
        "print(type(10)) #int -integer number\n",
        "print(type(10.5)) # float -floating point number\n",
        "print(type(\"ten\")) # str -string\n",
        "print(type(True)) #bool -boolean\n",
        "print(type(3+2j)) #compex -complex number\n"
      ],
      "metadata": {
        "id": "pFMcKpPLFOO-",
        "colab": {
          "base_uri": "https://localhost:8080/"
        },
        "outputId": "1c2aa95e-1acc-4f21-e9c2-19a0cf456a04"
      },
      "execution_count": null,
      "outputs": [
        {
          "output_type": "stream",
          "name": "stdout",
          "text": [
            "<class 'int'>\n",
            "<class 'float'>\n",
            "<class 'str'>\n",
            "<class 'bool'>\n",
            "<class 'complex'>\n"
          ]
        }
      ]
    },
    {
      "cell_type": "markdown",
      "source": [
        "Using abs()\n",
        "\n",
        "•\tPrint abs(10), abs(-10), and abs(-3.5).\n",
        "\n",
        "•\tExplain what abs() does in comments.\n"
      ],
      "metadata": {
        "id": "ZB34fGL-FOZT"
      }
    },
    {
      "cell_type": "code",
      "source": [
        "print(abs(10)) #stays positive for the positive number\n",
        "print(abs(-10)) # change the negative number to positive number\n",
        "print(abs(-3.5))"
      ],
      "metadata": {
        "id": "KrdCv7QuFOy-",
        "colab": {
          "base_uri": "https://localhost:8080/"
        },
        "outputId": "bbcd88cc-5199-4852-c636-2ef4a5a79a41"
      },
      "execution_count": null,
      "outputs": [
        {
          "output_type": "stream",
          "name": "stdout",
          "text": [
            "10\n",
            "10\n",
            "3.5\n"
          ]
        }
      ]
    },
    {
      "cell_type": "markdown",
      "source": [
        "Using round()\n",
        "\n",
        "•\tDemonstrate round(3.14159, 2).\n",
        "\n",
        "•\tShow how round(2.5) behaves in Python.\n"
      ],
      "metadata": {
        "id": "5pvhPaJWFO6R"
      }
    },
    {
      "cell_type": "code",
      "source": [
        "print(round(3.14159, 2)) # gives the number with two decimal\n",
        "print(round(2.5)) # round to nearest even number also known as banker rounding or round half to even"
      ],
      "metadata": {
        "id": "32LnMYGbFPA1",
        "colab": {
          "base_uri": "https://localhost:8080/"
        },
        "outputId": "e66f2499-03e6-4ec3-cbe1-cc76a73abde1"
      },
      "execution_count": null,
      "outputs": [
        {
          "output_type": "stream",
          "name": "stdout",
          "text": [
            "3.14\n",
            "2\n"
          ]
        }
      ]
    },
    {
      "cell_type": "markdown",
      "source": [
        "Using sum(), max(), min()\n",
        "\n",
        "•\tCreate a list of numeric values.\n",
        "\n",
        "•\tPrint sum(), max(), and min() of that list.\n"
      ],
      "metadata": {
        "id": "EBFiZT1hFPHW"
      }
    },
    {
      "cell_type": "code",
      "source": [
        "\n",
        "lst = [2,3,5,7,51]\n",
        "sum_of_list = sum(lst)\n",
        "max_num = max(lst)\n",
        "min_num = min(lst)\n",
        "print(f\"Sum of list: {sum_of_list}\")\n",
        "print(f\"Maximum number in the list : {max_num}\")\n",
        "print(f\"Minimum number in the list : {min_num}\")"
      ],
      "metadata": {
        "id": "Fw8GLjw6FPMz",
        "colab": {
          "base_uri": "https://localhost:8080/"
        },
        "outputId": "e6080812-2685-440e-c932-b41a303976ef"
      },
      "execution_count": null,
      "outputs": [
        {
          "output_type": "stream",
          "name": "stdout",
          "text": [
            "Sum of list: 68\n",
            "Maximum number in the list : 51\n",
            "Minimum number in the list : 2\n"
          ]
        }
      ]
    },
    {
      "cell_type": "markdown",
      "source": [
        "Using sorted()\n",
        "\n",
        "•\tCreate a list or tuple vals = (3, 1, 4, 2).\n",
        "\n",
        "•\tUse sorted(vals) and print the result.\n",
        "\n",
        "•\tShow that vals itself is unchanged.\n"
      ],
      "metadata": {
        "id": "Chog1fOAFPSf"
      }
    },
    {
      "cell_type": "code",
      "source": [
        "vals = (3, 1, 4, 2)\n",
        "print(f\"Sorted tuple : {sorted(vals)}\")\n",
        "print(f\"Original tuple : {vals}\")"
      ],
      "metadata": {
        "id": "qRZo70bJFPXr",
        "colab": {
          "base_uri": "https://localhost:8080/"
        },
        "outputId": "c433c51f-def0-419e-f866-51f9516a65a2"
      },
      "execution_count": null,
      "outputs": [
        {
          "output_type": "stream",
          "name": "stdout",
          "text": [
            "Sorted tuple : [1, 2, 3, 4]\n",
            "Original tuple : (3, 1, 4, 2)\n"
          ]
        }
      ]
    },
    {
      "cell_type": "markdown",
      "source": [
        "Using any() / all()\n",
        "\n",
        "•\tCreate a list of booleans, for example [True, False, True].\n",
        "\n",
        "•\tPrint any() on the list, then all() on the list.\n",
        "\n",
        "•\tShow the difference in how they evaluate.\n"
      ],
      "metadata": {
        "id": "zZcd9asrFPdL"
      }
    },
    {
      "cell_type": "code",
      "source": [
        "bool_list = [True, False, True]\n",
        "print(f\"any() : {any(bool_list)}\") # returns true if any of the element is true\n",
        "print(f\"all() : {all(bool_list)}\") # returns true only if all the elements are true"
      ],
      "metadata": {
        "id": "Om_LkYqwFPim",
        "colab": {
          "base_uri": "https://localhost:8080/"
        },
        "outputId": "d67f35f6-be73-49cd-91fc-1a6353dddfde"
      },
      "execution_count": null,
      "outputs": [
        {
          "output_type": "stream",
          "name": "stdout",
          "text": [
            "any() : True\n",
            "all() : False\n"
          ]
        }
      ]
    },
    {
      "cell_type": "markdown",
      "source": [
        "Storing Booleans from Comparisons\n",
        "\n",
        "•\tCompare two values in separate expressions, e.g., a = (10 > 3), b = (5 == 5).\n",
        "\n",
        "•\tCombine these booleans with and or or.\n",
        "\n",
        "•\tPrint the final result.\n"
      ],
      "metadata": {
        "id": "UEB6MvdvFPqu"
      }
    },
    {
      "cell_type": "code",
      "source": [
        "a = (10 > 3)\n",
        "b = (5 == 5)\n",
        "print(\"a :\",a)\n",
        "print(\"b :\",b)\n",
        "print(\"and operator :\", a and b)\n",
        "print(\"or operator : \", a or b)"
      ],
      "metadata": {
        "id": "jdILaM0zFP4C",
        "colab": {
          "base_uri": "https://localhost:8080/"
        },
        "outputId": "5914a5ae-749b-4612-919e-074dd1a3e861"
      },
      "execution_count": null,
      "outputs": [
        {
          "output_type": "stream",
          "name": "stdout",
          "text": [
            "a : True\n",
            "b : True\n",
            "and operator : True\n",
            "or operator :  True\n"
          ]
        }
      ]
    },
    {
      "cell_type": "markdown",
      "source": [
        "Multiline String & Counting\n",
        "\n",
        "•\tCreate a multiline string describing your favorite hobby.\n",
        "\n",
        "•\tUse the string method .count(substring) to count how many times the letter \"a\" appears (case-insensitive).\n",
        "\n",
        "•\tPrint the count and explain any steps taken to handle case sensitivity.\n"
      ],
      "metadata": {
        "id": "ADGTfNx7FQZT"
      }
    },
    {
      "cell_type": "code",
      "source": [
        "hobby = \"\"\"I love to play the guitar because it helps me relax and express my emotions through music.\n",
        "Whether I’m strumming chords or learning new melodies, playing the guitar brings me joy and a sense of accomplishment.\n",
        "It’s a hobby that keeps me creative and inspired every day.\"\"\"\n",
        "count_a = hobby.lower().count(\"a\") # .lower() is used tio handle the case sensitive as it include both 'a' and 'A'\n",
        "print(\"count of a :\",count_a)\n"
      ],
      "metadata": {
        "id": "bZM1wrkcFQir",
        "colab": {
          "base_uri": "https://localhost:8080/"
        },
        "outputId": "8a2f2ddc-6550-482e-a580-a73f0fee1d57"
      },
      "execution_count": null,
      "outputs": [
        {
          "output_type": "stream",
          "name": "stdout",
          "text": [
            "count of a : 16\n"
          ]
        }
      ]
    },
    {
      "cell_type": "markdown",
      "source": [
        "Advanced String Slicing\n",
        "\n",
        "•\tTake the string \"ABCDEFGHIJ\" and slice every second character, resulting in \"ACEGI\".\n",
        "\n",
        "•\tPrint the sliced string.\n",
        "\n",
        "•\tAlso slice in reverse step.\n"
      ],
      "metadata": {
        "id": "GHEAWBcIFQox"
      }
    },
    {
      "cell_type": "code",
      "source": [
        "text = \"ABCDEFGHIJ\"\n",
        "sliced_text = text[::2]\n",
        "print(\"Sliced text :\",sliced_text)\n",
        "print(\"Reverse sliced text :\", sliced_text[::-1])"
      ],
      "metadata": {
        "id": "ubXNKG1iFQvc",
        "colab": {
          "base_uri": "https://localhost:8080/"
        },
        "outputId": "68872230-2638-46a4-ea44-dc7641a193dd"
      },
      "execution_count": null,
      "outputs": [
        {
          "output_type": "stream",
          "name": "stdout",
          "text": [
            "Sliced text : ACEGI\n",
            "Reverse sliced text : IGECA\n"
          ]
        }
      ]
    },
    {
      "cell_type": "markdown",
      "source": [
        "Casefold vs. Lower\n",
        "\n",
        "•\tCreate two strings, \"Case\" and \"case\".\n",
        "\n",
        "•\tCompare them with the regular == operator directly.\n",
        "\n",
        "•\tCompare them again after applying .casefold().\n",
        "\n",
        "•\tPrint results and comment on how .casefold() differs from .lower() in edge cases.\n"
      ],
      "metadata": {
        "id": "XKuSnFtuFR76"
      }
    },
    {
      "cell_type": "code",
      "source": [
        "text1 = \"Case\"\n",
        "text2 = \"case\"\n",
        "print(f\"Case == case : {text1 == text2}\")\n",
        "text1_folded = text1.casefold()\n",
        "text2_folded = text2.casefold()\n",
        "print(f\"After applying lower() : {text1.lower() == text2.lower()}\") #it changes to lower case but does not handle special cases\n",
        "print(f\"After applying casefold() : {text1_folded == text2_folded}\") #it changes to lower case as well as handles the special cases (like German ß and ss)"
      ],
      "metadata": {
        "id": "_qG5-7q9FSE-",
        "colab": {
          "base_uri": "https://localhost:8080/"
        },
        "outputId": "d4280e86-a5ef-4d21-9a74-4612a6962fd5"
      },
      "execution_count": null,
      "outputs": [
        {
          "output_type": "stream",
          "name": "stdout",
          "text": [
            "Case == case : False\n",
            "After applying lower() : True\n",
            "After applying casefold() : True\n"
          ]
        }
      ]
    },
    {
      "cell_type": "markdown",
      "source": [
        "Formatted Printing\n",
        "\n",
        "•\tDefine name = \"Ramesh\", product = \"Notebook\", quantity = 2, and price = 12.50.\n",
        "\n",
        "•\tUse an f-string (or str.format()) to print:\n",
        "\n",
        "\"Ramesh purchased 2 Notebook for a total of $25.0.\"\n"
      ],
      "metadata": {
        "id": "pLKqzuzVFSbO"
      }
    },
    {
      "cell_type": "code",
      "source": [
        "name = \"Ramesh\"\n",
        "product = \"Notebook\"\n",
        "quantity = 2\n",
        "price = 12.50\n",
        "print(f\"{name} purchased {quantity} {product} for a total of {price}\")"
      ],
      "metadata": {
        "id": "O2iU6W9uFSid",
        "colab": {
          "base_uri": "https://localhost:8080/"
        },
        "outputId": "db12e31e-4f83-4efe-c634-288e1ca207c8"
      },
      "execution_count": null,
      "outputs": [
        {
          "output_type": "stream",
          "name": "stdout",
          "text": [
            "Ramesh purchased 2 Notebook for a total of 12.5\n"
          ]
        }
      ]
    },
    {
      "cell_type": "markdown",
      "source": [
        "Type Conversion Chain\n",
        "\n",
        "•\tAsk a user for a string that represents a number, e.g., \"0\".\n",
        "\n",
        "•\tConvert it to a float, then to a bool, and print the intermediate and final results.\n"
      ],
      "metadata": {
        "id": "5lR3rTqGFSpd"
      }
    },
    {
      "cell_type": "code",
      "source": [
        "user = input(\"Enter the number as string\")\n",
        "float_value = float(user)\n",
        "bool_value = bool(float_value)\n",
        "print(f\"Float value : {float_value} \\nBool value : {bool_value}\")"
      ],
      "metadata": {
        "id": "vBoOXkuHFSvG",
        "colab": {
          "base_uri": "https://localhost:8080/"
        },
        "outputId": "f16dc61b-c17d-4ebf-e8f0-1ab6b924dd50"
      },
      "execution_count": null,
      "outputs": [
        {
          "output_type": "stream",
          "name": "stdout",
          "text": [
            "Enter the number as string0\n",
            "Float value : 0.0 \n",
            "Bool value : False\n"
          ]
        }
      ]
    },
    {
      "cell_type": "markdown",
      "source": [
        "String List Sorting\n",
        "\n",
        "•\tGiven fruits = [\"apple\", \"banana\", \"cherry\"], sort them in descending alphabetical order.\n",
        "\n",
        "•\tPrint the sorted list, then use the .reverse() method to flip it. Compare the two results.\n"
      ],
      "metadata": {
        "id": "U4XBYYsaFS0x"
      }
    },
    {
      "cell_type": "code",
      "source": [
        "fruits = [\"apple\", \"banana\", \"cherry\"]\n",
        "fruits.sort(reverse = True)\n",
        "print(f\"Descending order : {fruits}\")\n",
        "fruits.reverse()\n",
        "print(f\"Sorted list : {fruits}\" )"
      ],
      "metadata": {
        "id": "JVqLG_ZVFS62",
        "colab": {
          "base_uri": "https://localhost:8080/"
        },
        "outputId": "9c70ed8d-f3ac-4784-f485-04334976163d"
      },
      "execution_count": null,
      "outputs": [
        {
          "output_type": "stream",
          "name": "stdout",
          "text": [
            "Descending order : ['cherry', 'banana', 'apple']\n",
            "Sorted list : ['apple', 'banana', 'cherry']\n"
          ]
        }
      ]
    },
    {
      "cell_type": "markdown",
      "source": [
        "Insert Using Slicing\n",
        "\n",
        "•\tStart with a list [2, 5, 7, 1, 9].\n",
        "\n",
        "•\tInsert the value 4 right after the 2 using slicing (not insert() or append()).\n",
        "\n",
        "•\tPrint the modified list.\n"
      ],
      "metadata": {
        "id": "DCcwBID9FTBW"
      }
    },
    {
      "cell_type": "code",
      "source": [
        "lst = [2, 5, 7, 1, 9]\n",
        "lst = lst[:1] + [4] + lst[1:]\n",
        "print(f\"Modified list : {lst}\")"
      ],
      "metadata": {
        "id": "sw1ntlhyFTIA",
        "colab": {
          "base_uri": "https://localhost:8080/"
        },
        "outputId": "cc6ee7db-ec4a-4aec-d06a-752ee5943d0b"
      },
      "execution_count": null,
      "outputs": [
        {
          "output_type": "stream",
          "name": "stdout",
          "text": [
            "Modified list : [2, 4, 5, 7, 1, 9]\n"
          ]
        }
      ]
    },
    {
      "cell_type": "markdown",
      "source": [
        "Indexing Within a Mixed List\n",
        "\n",
        "•\tCreate a list info = [\"John\", 28, True, 4500.75].\n",
        "\n",
        "•\tPrint only \"John\" and 4500.75 using their indices.\n"
      ],
      "metadata": {
        "id": "GTRCEi-VGv51"
      }
    },
    {
      "cell_type": "code",
      "source": [
        "info = [\"John\", 28, True, 4500.75]\n",
        "print(info[0])\n",
        "print(info[-1])"
      ],
      "metadata": {
        "id": "Huprl-ngGwAK",
        "colab": {
          "base_uri": "https://localhost:8080/"
        },
        "outputId": "52e53b3b-b15a-4c16-da8f-6a747f2fe7fe"
      },
      "execution_count": null,
      "outputs": [
        {
          "output_type": "stream",
          "name": "stdout",
          "text": [
            "John\n",
            "4500.75\n"
          ]
        }
      ]
    },
    {
      "cell_type": "markdown",
      "source": [
        "Tuple Concatenation & Replication\n",
        "\n",
        "•\tCreate two tuples (1, 2) and (3, 4).\n",
        "\n",
        "•\tConcatenate them into (1, 2, 3, 4).\n",
        "\n",
        "•\tReplicate (1, 2) 3 times to get (1, 2, 1, 2, 1, 2).\n"
      ],
      "metadata": {
        "id": "OJEsgWMzGwGV"
      }
    },
    {
      "cell_type": "code",
      "source": [
        "t1 = (1, 2)\n",
        "t2 = (3, 4)\n",
        "concatenated_tuple = t1 + t2\n",
        "replicated_tuple = t1 * 3\n",
        "print(f\"Concatenated tuple : {concatenated_tuple} \\nReplicated tuple : {replicated_tuple}\")"
      ],
      "metadata": {
        "id": "T-dmGokNGwPt",
        "colab": {
          "base_uri": "https://localhost:8080/"
        },
        "outputId": "a5769055-961a-4ed2-d719-951e89e4b626"
      },
      "execution_count": null,
      "outputs": [
        {
          "output_type": "stream",
          "name": "stdout",
          "text": [
            "Concatenated tuple : (1, 2, 3, 4) \n",
            "Replicated tuple : (1, 2, 1, 2, 1, 2)\n"
          ]
        }
      ]
    },
    {
      "cell_type": "markdown",
      "source": [
        "Single-Element Tuple\n",
        "\n",
        "•\tDemonstrate that (42,) is a tuple whereas (42) is just an integer.\n"
      ],
      "metadata": {
        "id": "yPDHTJniGwWH"
      }
    },
    {
      "cell_type": "code",
      "source": [
        "single_element_tuple = (42,) #to make single element tuple we should give comma\n",
        "single_integer = (42) # just a integer inside parenthesis\n",
        "print(f\"(42,) is type of {type(single_element_tuple)}\")\n",
        "print(f\"(42) is type of {type(single_integer)}\")"
      ],
      "metadata": {
        "id": "ac1V-P6QGwez",
        "colab": {
          "base_uri": "https://localhost:8080/"
        },
        "outputId": "34bd151a-c7c3-4404-d83a-85fb84752a4c"
      },
      "execution_count": null,
      "outputs": [
        {
          "output_type": "stream",
          "name": "stdout",
          "text": [
            "(42,) is type of <class 'tuple'>\n",
            "(42) is type of <class 'int'>\n"
          ]
        }
      ]
    },
    {
      "cell_type": "markdown",
      "source": [
        "Intersection & Union\n",
        "\n",
        "•\tLet setA = {1, 2, 3, 4} and setB = {1,2,3}.\n",
        "\n",
        "•\tPrint their intersection using setA & setB.\n",
        "\n",
        "•\tPrint their union using setA | setB.\n"
      ],
      "metadata": {
        "id": "hFVvQ7wDGwjw"
      }
    },
    {
      "cell_type": "code",
      "source": [
        "setA = {1, 2, 3, 4}\n",
        "setB = {1,2,3}\n",
        "intersection_set = setA.intersection(setB)\n",
        "union_set = setA | setB\n",
        "print(f\"Intersection of set : {intersection_set}\")\n",
        "print(f\"Union of set : {union_set}\")"
      ],
      "metadata": {
        "id": "8UHaev82GwqB",
        "colab": {
          "base_uri": "https://localhost:8080/"
        },
        "outputId": "ce870063-60a8-4530-b658-fb2bd0274e53"
      },
      "execution_count": null,
      "outputs": [
        {
          "output_type": "stream",
          "name": "stdout",
          "text": [
            "Intersection of set : {1, 2, 3}\n",
            "Union of set : {1, 2, 3, 4}\n"
          ]
        }
      ]
    },
    {
      "cell_type": "markdown",
      "source": [
        "Subset and Superset\n",
        "\n",
        "•\tCheck if setB is a subset of setA using setB.issubset(setA).\n",
        "\n",
        "•\tCheck if setA is a superset of setB using setA.issuperset(setB).\n",
        "\n",
        "•\tPrint the results.\n"
      ],
      "metadata": {
        "id": "WirWGR6WGwve"
      }
    },
    {
      "cell_type": "code",
      "source": [
        "setA = {1, 2, 3, 4}\n",
        "setB = {1,2,3}\n",
        "is_subsetA = setB.issubset(setA)\n",
        "is_subsetB = setA.issubset(setB)\n",
        "print(f\"Is setB subset of setA : {is_subsetA}\")\n",
        "print(f\"Is setA subset of setB : {is_subsetB}\")"
      ],
      "metadata": {
        "id": "WDpxrbcHGw13",
        "colab": {
          "base_uri": "https://localhost:8080/"
        },
        "outputId": "8f819d5b-39cc-401b-efae-b83a55ba4471"
      },
      "execution_count": null,
      "outputs": [
        {
          "output_type": "stream",
          "name": "stdout",
          "text": [
            "Is setB subset of setA : True\n",
            "Is setA subset of setB : False\n"
          ]
        }
      ]
    },
    {
      "cell_type": "markdown",
      "source": [
        "Countries and Capitals\n",
        "\n",
        "•\tCreate a dictionary capitals = {\"France\": \"Paris\", \"Germany\": \"Berlin\", \"Italy\": \"Rome\"}.\n",
        "\n",
        "•\tPrint just the keys, then just the values, then all key-value pairs.\n"
      ],
      "metadata": {
        "id": "6paCr8rPGw-F"
      }
    },
    {
      "cell_type": "code",
      "source": [
        "capitals = {\"France\": \"Paris\", \"Germany\": \"Berlin\", \"Italy\": \"Rome\"}\n",
        "print(f\"keys of capitals : {capitals.keys()}\")\n",
        "print(f\"Values of capitals : {capitals.values()}\")"
      ],
      "metadata": {
        "id": "5KDKlZJIGxGi",
        "colab": {
          "base_uri": "https://localhost:8080/"
        },
        "outputId": "82389636-f433-4290-98e7-c838ff6e453c"
      },
      "execution_count": null,
      "outputs": [
        {
          "output_type": "stream",
          "name": "stdout",
          "text": [
            "keys of capitals : dict_keys(['France', 'Germany', 'Italy'])\n",
            "Values of capitals : dict_values(['Paris', 'Berlin', 'Rome'])\n"
          ]
        }
      ]
    },
    {
      "cell_type": "markdown",
      "source": [
        "Summing Dictionary Values\n",
        "\n",
        "•\tCreate a dictionary numbers = {\"x\": 4, \"y\": 10, \"z\": 6}.\n",
        "\n",
        "•\tUse sum(numbers.values()) to sum all values.\n",
        "\n",
        "•\tPrint the sum.\n"
      ],
      "metadata": {
        "id": "Rmq418meHMD-"
      }
    },
    {
      "cell_type": "code",
      "source": [
        "numbers = {\"x\": 4, \"y\": 10, \"z\": 6}\n",
        "print(f\"Sum of values : {sum(numbers.values())}\")"
      ],
      "metadata": {
        "id": "XzWGS5pAHMLL",
        "colab": {
          "base_uri": "https://localhost:8080/"
        },
        "outputId": "0b0ab085-7e67-4fc9-ee46-9aae3c6cbdf6"
      },
      "execution_count": null,
      "outputs": [
        {
          "output_type": "stream",
          "name": "stdout",
          "text": [
            "Sum of values : 20\n"
          ]
        }
      ]
    }
  ]
}