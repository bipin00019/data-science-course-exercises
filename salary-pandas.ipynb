{
  "cells": [
    {
      "cell_type": "code",
      "execution_count": 34,
      "id": "b5fbfb6c",
      "metadata": {
        "colab": {
          "base_uri": "https://localhost:8080/"
        },
        "id": "b5fbfb6c",
        "outputId": "82b77425-2fa2-4e0b-ac7a-d5e4fc35b1f3"
      },
      "outputs": [
        {
          "name": "stdout",
          "output_type": "stream",
          "text": [
            "6704\n",
            "6\n"
          ]
        }
      ],
      "source": [
        "import pandas as pd\n",
        "\n",
        "#load the datasets:\n",
        "df = pd.read_csv('Salary_Data.csv')\n",
        "\n",
        "print(len(df)) # Gives no of rows\n",
        "print(len(df.columns)) # Gives no of columns"
      ]
    },
    {
      "cell_type": "code",
      "execution_count": 35,
      "id": "7ccac2e9",
      "metadata": {
        "colab": {
          "base_uri": "https://localhost:8080/",
          "height": 1000
        },
        "id": "7ccac2e9",
        "outputId": "fe519fac-9129-4e1b-f3db-a2db7c994cd2"
      },
      "outputs": [
        {
          "data": {
            "text/html": [
              "<div>\n",
              "<style scoped>\n",
              "    .dataframe tbody tr th:only-of-type {\n",
              "        vertical-align: middle;\n",
              "    }\n",
              "\n",
              "    .dataframe tbody tr th {\n",
              "        vertical-align: top;\n",
              "    }\n",
              "\n",
              "    .dataframe thead th {\n",
              "        text-align: right;\n",
              "    }\n",
              "</style>\n",
              "<table border=\"1\" class=\"dataframe\">\n",
              "  <thead>\n",
              "    <tr style=\"text-align: right;\">\n",
              "      <th></th>\n",
              "      <th>Age</th>\n",
              "      <th>Gender</th>\n",
              "      <th>Education Level</th>\n",
              "      <th>Job Title</th>\n",
              "      <th>Years of Experience</th>\n",
              "      <th>Salary</th>\n",
              "    </tr>\n",
              "  </thead>\n",
              "  <tbody>\n",
              "    <tr>\n",
              "      <th>0</th>\n",
              "      <td>32.0</td>\n",
              "      <td>Male</td>\n",
              "      <td>Bachelor's</td>\n",
              "      <td>Software Engineer</td>\n",
              "      <td>5.0</td>\n",
              "      <td>90000.0</td>\n",
              "    </tr>\n",
              "    <tr>\n",
              "      <th>1</th>\n",
              "      <td>28.0</td>\n",
              "      <td>Female</td>\n",
              "      <td>Master's</td>\n",
              "      <td>Data Analyst</td>\n",
              "      <td>3.0</td>\n",
              "      <td>65000.0</td>\n",
              "    </tr>\n",
              "    <tr>\n",
              "      <th>2</th>\n",
              "      <td>45.0</td>\n",
              "      <td>Male</td>\n",
              "      <td>PhD</td>\n",
              "      <td>Senior Manager</td>\n",
              "      <td>15.0</td>\n",
              "      <td>150000.0</td>\n",
              "    </tr>\n",
              "    <tr>\n",
              "      <th>3</th>\n",
              "      <td>36.0</td>\n",
              "      <td>Female</td>\n",
              "      <td>Bachelor's</td>\n",
              "      <td>Sales Associate</td>\n",
              "      <td>7.0</td>\n",
              "      <td>60000.0</td>\n",
              "    </tr>\n",
              "    <tr>\n",
              "      <th>4</th>\n",
              "      <td>52.0</td>\n",
              "      <td>Male</td>\n",
              "      <td>Master's</td>\n",
              "      <td>Director</td>\n",
              "      <td>20.0</td>\n",
              "      <td>200000.0</td>\n",
              "    </tr>\n",
              "  </tbody>\n",
              "</table>\n",
              "</div>"
            ],
            "text/plain": [
              "    Age  Gender Education Level          Job Title  Years of Experience  \\\n",
              "0  32.0    Male      Bachelor's  Software Engineer                  5.0   \n",
              "1  28.0  Female        Master's       Data Analyst                  3.0   \n",
              "2  45.0    Male             PhD     Senior Manager                 15.0   \n",
              "3  36.0  Female      Bachelor's    Sales Associate                  7.0   \n",
              "4  52.0    Male        Master's           Director                 20.0   \n",
              "\n",
              "     Salary  \n",
              "0   90000.0  \n",
              "1   65000.0  \n",
              "2  150000.0  \n",
              "3   60000.0  \n",
              "4  200000.0  "
            ]
          },
          "execution_count": 35,
          "metadata": {},
          "output_type": "execute_result"
        }
      ],
      "source": [
        "df.head() # Extracts the top 5 data from the df"
      ]
    },
    {
      "cell_type": "code",
      "execution_count": 36,
      "id": "98c3597f",
      "metadata": {
        "colab": {
          "base_uri": "https://localhost:8080/"
        },
        "id": "98c3597f",
        "outputId": "6ad11891-bfe6-40a7-f79b-019c743d75fe"
      },
      "outputs": [
        {
          "data": {
            "text/plain": [
              "Index(['Age', 'Gender', 'Education Level', 'Job Title', 'Years of Experience',\n",
              "       'Salary'],\n",
              "      dtype='object')"
            ]
          },
          "execution_count": 36,
          "metadata": {},
          "output_type": "execute_result"
        }
      ],
      "source": [
        "df.columns # Gives all the column names of the dataset"
      ]
    },
    {
      "cell_type": "code",
      "execution_count": 37,
      "id": "c55aff6a",
      "metadata": {
        "colab": {
          "base_uri": "https://localhost:8080/"
        },
        "id": "c55aff6a",
        "outputId": "c218c12a-43d1-4e65-ec9e-1d00d63b0a64"
      },
      "outputs": [
        {
          "name": "stdout",
          "output_type": "stream",
          "text": [
            "<class 'pandas.core.frame.DataFrame'>\n",
            "RangeIndex: 6704 entries, 0 to 6703\n",
            "Data columns (total 6 columns):\n",
            " #   Column               Non-Null Count  Dtype  \n",
            "---  ------               --------------  -----  \n",
            " 0   Age                  6702 non-null   float64\n",
            " 1   Gender               6702 non-null   object \n",
            " 2   Education Level      6701 non-null   object \n",
            " 3   Job Title            6702 non-null   object \n",
            " 4   Years of Experience  6701 non-null   float64\n",
            " 5   Salary               6699 non-null   float64\n",
            "dtypes: float64(3), object(3)\n",
            "memory usage: 314.4+ KB\n"
          ]
        }
      ],
      "source": [
        "df.info() # gives quick description of our dataset"
      ]
    },
    {
      "cell_type": "markdown",
      "id": "06e1205d",
      "metadata": {
        "id": "06e1205d"
      },
      "source": [
        "\n",
        "Descriptive analysis"
      ]
    },
    {
      "cell_type": "code",
      "execution_count": 38,
      "id": "b41c7c07",
      "metadata": {
        "id": "b41c7c07",
        "outputId": "62416092-dad6-4c7f-df59-2ff256ecaa4a"
      },
      "outputs": [
        {
          "data": {
            "text/html": [
              "<div>\n",
              "<style scoped>\n",
              "    .dataframe tbody tr th:only-of-type {\n",
              "        vertical-align: middle;\n",
              "    }\n",
              "\n",
              "    .dataframe tbody tr th {\n",
              "        vertical-align: top;\n",
              "    }\n",
              "\n",
              "    .dataframe thead th {\n",
              "        text-align: right;\n",
              "    }\n",
              "</style>\n",
              "<table border=\"1\" class=\"dataframe\">\n",
              "  <thead>\n",
              "    <tr style=\"text-align: right;\">\n",
              "      <th></th>\n",
              "      <th>Age</th>\n",
              "      <th>Years of Experience</th>\n",
              "      <th>Salary</th>\n",
              "    </tr>\n",
              "  </thead>\n",
              "  <tbody>\n",
              "    <tr>\n",
              "      <th>count</th>\n",
              "      <td>6702.000000</td>\n",
              "      <td>6701.000000</td>\n",
              "      <td>6699.000000</td>\n",
              "    </tr>\n",
              "    <tr>\n",
              "      <th>mean</th>\n",
              "      <td>33.620859</td>\n",
              "      <td>8.094687</td>\n",
              "      <td>115326.964771</td>\n",
              "    </tr>\n",
              "    <tr>\n",
              "      <th>std</th>\n",
              "      <td>7.614633</td>\n",
              "      <td>6.059003</td>\n",
              "      <td>52786.183911</td>\n",
              "    </tr>\n",
              "    <tr>\n",
              "      <th>min</th>\n",
              "      <td>21.000000</td>\n",
              "      <td>0.000000</td>\n",
              "      <td>350.000000</td>\n",
              "    </tr>\n",
              "    <tr>\n",
              "      <th>25%</th>\n",
              "      <td>28.000000</td>\n",
              "      <td>3.000000</td>\n",
              "      <td>70000.000000</td>\n",
              "    </tr>\n",
              "    <tr>\n",
              "      <th>50%</th>\n",
              "      <td>32.000000</td>\n",
              "      <td>7.000000</td>\n",
              "      <td>115000.000000</td>\n",
              "    </tr>\n",
              "    <tr>\n",
              "      <th>75%</th>\n",
              "      <td>38.000000</td>\n",
              "      <td>12.000000</td>\n",
              "      <td>160000.000000</td>\n",
              "    </tr>\n",
              "    <tr>\n",
              "      <th>max</th>\n",
              "      <td>62.000000</td>\n",
              "      <td>34.000000</td>\n",
              "      <td>250000.000000</td>\n",
              "    </tr>\n",
              "  </tbody>\n",
              "</table>\n",
              "</div>"
            ],
            "text/plain": [
              "               Age  Years of Experience         Salary\n",
              "count  6702.000000          6701.000000    6699.000000\n",
              "mean     33.620859             8.094687  115326.964771\n",
              "std       7.614633             6.059003   52786.183911\n",
              "min      21.000000             0.000000     350.000000\n",
              "25%      28.000000             3.000000   70000.000000\n",
              "50%      32.000000             7.000000  115000.000000\n",
              "75%      38.000000            12.000000  160000.000000\n",
              "max      62.000000            34.000000  250000.000000"
            ]
          },
          "execution_count": 38,
          "metadata": {},
          "output_type": "execute_result"
        }
      ],
      "source": [
        "df.describe() # Use df.describe() to check the distribution of values."
      ]
    },
    {
      "cell_type": "code",
      "execution_count": 39,
      "id": "c1ccb725",
      "metadata": {
        "colab": {
          "base_uri": "https://localhost:8080/"
        },
        "id": "c1ccb725",
        "outputId": "a9960cc1-ff3f-45ac-b205-21e190ea41c6"
      },
      "outputs": [
        {
          "name": "stdout",
          "output_type": "stream",
          "text": [
            "               Age  Years of Experience         Salary\n",
            "count  6702.000000          6701.000000    6699.000000\n",
            "mean     33.620859             8.094687  115326.964771\n",
            "std       7.614633             6.059003   52786.183911\n",
            "min      21.000000             0.000000     350.000000\n",
            "25%      28.000000             3.000000   70000.000000\n",
            "50%      32.000000             7.000000  115000.000000\n",
            "75%      38.000000            12.000000  160000.000000\n",
            "max      62.000000            34.000000  250000.000000\n",
            "\n",
            "\n",
            "\n",
            "       Gender    Education Level          Job Title\n",
            "count    6702               6701               6702\n",
            "unique      3                  7                193\n",
            "top      Male  Bachelor's Degree  Software Engineer\n",
            "freq     3674               2267                518\n"
          ]
        }
      ],
      "source": [
        "# Summary statistics for categorical columns\n",
        "print(df.describe(include='float'))\n",
        "print()\n",
        "print()\n",
        "print()\n",
        "print(df.describe(include='object'))"
      ]
    },
    {
      "cell_type": "markdown",
      "id": "634a27ae",
      "metadata": {
        "id": "634a27ae"
      },
      "source": [
        " Gender\n",
        "count = 6702 → There are 6702 entries in the Gender column (2 missing values).\n",
        "\n",
        "unique = 3 → There are 3 unique gender categories (e.g., 'Male', 'Female', maybe 'Other' or 'Non-Binary').\n",
        "\n",
        "top = 'Male' → The most common gender is 'Male'.\n",
        "\n",
        "freq = 3674 → 'Male' appears 3674 times."
      ]
    },
    {
      "cell_type": "markdown",
      "id": "33e93b8d",
      "metadata": {
        "id": "33e93b8d"
      },
      "source": [
        "count = 6701 → 6701 entries (3 missing value).\n",
        "\n",
        "unique = 7 → 7 distinct education levels (e.g., High School, Bachelor's, Master's, PhD, etc.).\n",
        "\n",
        "top = 'Bachelor's Degree' → Most frequent education level.\n",
        "\n",
        "freq = 2267 → 'Bachelor's Degree' appears 2267 times."
      ]
    },
    {
      "cell_type": "code",
      "execution_count": 40,
      "id": "b1a5a41f",
      "metadata": {
        "colab": {
          "base_uri": "https://localhost:8080/",
          "height": 423
        },
        "id": "b1a5a41f",
        "outputId": "f9a210b4-1b5c-4612-e2df-5ba627307dc1"
      },
      "outputs": [
        {
          "data": {
            "text/html": [
              "<div>\n",
              "<style scoped>\n",
              "    .dataframe tbody tr th:only-of-type {\n",
              "        vertical-align: middle;\n",
              "    }\n",
              "\n",
              "    .dataframe tbody tr th {\n",
              "        vertical-align: top;\n",
              "    }\n",
              "\n",
              "    .dataframe thead th {\n",
              "        text-align: right;\n",
              "    }\n",
              "</style>\n",
              "<table border=\"1\" class=\"dataframe\">\n",
              "  <thead>\n",
              "    <tr style=\"text-align: right;\">\n",
              "      <th></th>\n",
              "      <th>Age</th>\n",
              "      <th>Gender</th>\n",
              "      <th>Education Level</th>\n",
              "      <th>Job Title</th>\n",
              "      <th>Years of Experience</th>\n",
              "      <th>Salary</th>\n",
              "    </tr>\n",
              "  </thead>\n",
              "  <tbody>\n",
              "    <tr>\n",
              "      <th>0</th>\n",
              "      <td>32.0</td>\n",
              "      <td>Male</td>\n",
              "      <td>Bachelor's</td>\n",
              "      <td>Software Engineer</td>\n",
              "      <td>5.0</td>\n",
              "      <td>90000.0</td>\n",
              "    </tr>\n",
              "    <tr>\n",
              "      <th>1</th>\n",
              "      <td>28.0</td>\n",
              "      <td>Female</td>\n",
              "      <td>Master's</td>\n",
              "      <td>Data Analyst</td>\n",
              "      <td>3.0</td>\n",
              "      <td>65000.0</td>\n",
              "    </tr>\n",
              "    <tr>\n",
              "      <th>2</th>\n",
              "      <td>45.0</td>\n",
              "      <td>Male</td>\n",
              "      <td>PhD</td>\n",
              "      <td>Senior Manager</td>\n",
              "      <td>15.0</td>\n",
              "      <td>150000.0</td>\n",
              "    </tr>\n",
              "    <tr>\n",
              "      <th>3</th>\n",
              "      <td>36.0</td>\n",
              "      <td>Female</td>\n",
              "      <td>Bachelor's</td>\n",
              "      <td>Sales Associate</td>\n",
              "      <td>7.0</td>\n",
              "      <td>60000.0</td>\n",
              "    </tr>\n",
              "    <tr>\n",
              "      <th>4</th>\n",
              "      <td>52.0</td>\n",
              "      <td>Male</td>\n",
              "      <td>Master's</td>\n",
              "      <td>Director</td>\n",
              "      <td>20.0</td>\n",
              "      <td>200000.0</td>\n",
              "    </tr>\n",
              "    <tr>\n",
              "      <th>...</th>\n",
              "      <td>...</td>\n",
              "      <td>...</td>\n",
              "      <td>...</td>\n",
              "      <td>...</td>\n",
              "      <td>...</td>\n",
              "      <td>...</td>\n",
              "    </tr>\n",
              "    <tr>\n",
              "      <th>6699</th>\n",
              "      <td>49.0</td>\n",
              "      <td>Female</td>\n",
              "      <td>PhD</td>\n",
              "      <td>Director of Marketing</td>\n",
              "      <td>20.0</td>\n",
              "      <td>200000.0</td>\n",
              "    </tr>\n",
              "    <tr>\n",
              "      <th>6700</th>\n",
              "      <td>32.0</td>\n",
              "      <td>Male</td>\n",
              "      <td>High School</td>\n",
              "      <td>Sales Associate</td>\n",
              "      <td>3.0</td>\n",
              "      <td>50000.0</td>\n",
              "    </tr>\n",
              "    <tr>\n",
              "      <th>6701</th>\n",
              "      <td>30.0</td>\n",
              "      <td>Female</td>\n",
              "      <td>Bachelor's Degree</td>\n",
              "      <td>Financial Manager</td>\n",
              "      <td>4.0</td>\n",
              "      <td>55000.0</td>\n",
              "    </tr>\n",
              "    <tr>\n",
              "      <th>6702</th>\n",
              "      <td>46.0</td>\n",
              "      <td>Male</td>\n",
              "      <td>Master's Degree</td>\n",
              "      <td>Marketing Manager</td>\n",
              "      <td>14.0</td>\n",
              "      <td>140000.0</td>\n",
              "    </tr>\n",
              "    <tr>\n",
              "      <th>6703</th>\n",
              "      <td>26.0</td>\n",
              "      <td>Female</td>\n",
              "      <td>High School</td>\n",
              "      <td>Sales Executive</td>\n",
              "      <td>1.0</td>\n",
              "      <td>35000.0</td>\n",
              "    </tr>\n",
              "  </tbody>\n",
              "</table>\n",
              "<p>6704 rows × 6 columns</p>\n",
              "</div>"
            ],
            "text/plain": [
              "       Age  Gender    Education Level              Job Title  \\\n",
              "0     32.0    Male         Bachelor's      Software Engineer   \n",
              "1     28.0  Female           Master's           Data Analyst   \n",
              "2     45.0    Male                PhD         Senior Manager   \n",
              "3     36.0  Female         Bachelor's        Sales Associate   \n",
              "4     52.0    Male           Master's               Director   \n",
              "...    ...     ...                ...                    ...   \n",
              "6699  49.0  Female                PhD  Director of Marketing   \n",
              "6700  32.0    Male        High School        Sales Associate   \n",
              "6701  30.0  Female  Bachelor's Degree      Financial Manager   \n",
              "6702  46.0    Male    Master's Degree      Marketing Manager   \n",
              "6703  26.0  Female        High School        Sales Executive   \n",
              "\n",
              "      Years of Experience    Salary  \n",
              "0                     5.0   90000.0  \n",
              "1                     3.0   65000.0  \n",
              "2                    15.0  150000.0  \n",
              "3                     7.0   60000.0  \n",
              "4                    20.0  200000.0  \n",
              "...                   ...       ...  \n",
              "6699                 20.0  200000.0  \n",
              "6700                  3.0   50000.0  \n",
              "6701                  4.0   55000.0  \n",
              "6702                 14.0  140000.0  \n",
              "6703                  1.0   35000.0  \n",
              "\n",
              "[6704 rows x 6 columns]"
            ]
          },
          "execution_count": 40,
          "metadata": {},
          "output_type": "execute_result"
        }
      ],
      "source": [
        "df"
      ]
    },
    {
      "cell_type": "code",
      "execution_count": 41,
      "id": "ffddc906",
      "metadata": {
        "colab": {
          "base_uri": "https://localhost:8080/",
          "height": 272
        },
        "id": "ffddc906",
        "outputId": "992a9c7b-0c90-4600-81e0-b50081bae9b5"
      },
      "outputs": [
        {
          "data": {
            "text/plain": [
              "Age                    2\n",
              "Gender                 2\n",
              "Education Level        3\n",
              "Job Title              2\n",
              "Years of Experience    3\n",
              "Salary                 5\n",
              "dtype: int64"
            ]
          },
          "execution_count": 41,
          "metadata": {},
          "output_type": "execute_result"
        }
      ],
      "source": [
        "df.isnull().sum()  # Gives the sum of no. of null values present in our column"
      ]
    },
    {
      "cell_type": "markdown",
      "id": "780d8cd9",
      "metadata": {
        "id": "780d8cd9"
      },
      "source": [
        "the dropna() function in Pandas is used to remove missing values (i.e., NaNs) from a DataFrame or Series."
      ]
    },
    {
      "cell_type": "markdown",
      "id": "bec12735",
      "metadata": {
        "id": "bec12735"
      },
      "source": [
        "What It Does:\n",
        "Removes all rows that contain at least one NaN (missing value).\n",
        "\n",
        "Returns a new DataFrame with only complete rows (no missing data)."
      ]
    },
    {
      "cell_type": "code",
      "execution_count": 42,
      "id": "e63a846b",
      "metadata": {
        "colab": {
          "base_uri": "https://localhost:8080/"
        },
        "id": "e63a846b",
        "outputId": "ad02ddd4-83d7-4fca-f29b-4c9aaf24902e"
      },
      "outputs": [
        {
          "name": "stdout",
          "output_type": "stream",
          "text": [
            "Remaining rows: 6698\n"
          ]
        }
      ],
      "source": [
        "df_cleaned = df.dropna() # Removes the row that contains at least one null values\n",
        "print(f\"Remaining rows: {len(df_cleaned)}\")\n"
      ]
    },
    {
      "cell_type": "code",
      "execution_count": 43,
      "id": "99e24813",
      "metadata": {
        "colab": {
          "base_uri": "https://localhost:8080/"
        },
        "id": "99e24813",
        "outputId": "8c7ea681-314f-479f-923e-e3e70db42743"
      },
      "outputs": [
        {
          "name": "stdout",
          "output_type": "stream",
          "text": [
            "Age                    0\n",
            "Gender                 0\n",
            "Education Level        0\n",
            "Job Title              0\n",
            "Years of Experience    0\n",
            "Salary                 0\n",
            "dtype: int64\n"
          ]
        }
      ],
      "source": [
        "print(df_cleaned.isnull().sum()) #checking again to confirm it's clean:\n"
      ]
    },
    {
      "cell_type": "code",
      "execution_count": 44,
      "id": "a35f2792",
      "metadata": {
        "colab": {
          "base_uri": "https://localhost:8080/",
          "height": 423
        },
        "id": "a35f2792",
        "outputId": "d15352c2-0b15-4ba9-b9fb-9858df23c0f8"
      },
      "outputs": [
        {
          "data": {
            "text/html": [
              "<div>\n",
              "<style scoped>\n",
              "    .dataframe tbody tr th:only-of-type {\n",
              "        vertical-align: middle;\n",
              "    }\n",
              "\n",
              "    .dataframe tbody tr th {\n",
              "        vertical-align: top;\n",
              "    }\n",
              "\n",
              "    .dataframe thead th {\n",
              "        text-align: right;\n",
              "    }\n",
              "</style>\n",
              "<table border=\"1\" class=\"dataframe\">\n",
              "  <thead>\n",
              "    <tr style=\"text-align: right;\">\n",
              "      <th></th>\n",
              "      <th>Age</th>\n",
              "      <th>Gender</th>\n",
              "      <th>Education Level</th>\n",
              "      <th>Job Title</th>\n",
              "      <th>Years of Experience</th>\n",
              "      <th>Salary</th>\n",
              "    </tr>\n",
              "  </thead>\n",
              "  <tbody>\n",
              "    <tr>\n",
              "      <th>0</th>\n",
              "      <td>32.0</td>\n",
              "      <td>Male</td>\n",
              "      <td>Bachelor's</td>\n",
              "      <td>Software Engineer</td>\n",
              "      <td>5.0</td>\n",
              "      <td>90000.0</td>\n",
              "    </tr>\n",
              "    <tr>\n",
              "      <th>1</th>\n",
              "      <td>28.0</td>\n",
              "      <td>Female</td>\n",
              "      <td>Master's</td>\n",
              "      <td>Data Analyst</td>\n",
              "      <td>3.0</td>\n",
              "      <td>65000.0</td>\n",
              "    </tr>\n",
              "    <tr>\n",
              "      <th>2</th>\n",
              "      <td>45.0</td>\n",
              "      <td>Male</td>\n",
              "      <td>PhD</td>\n",
              "      <td>Senior Manager</td>\n",
              "      <td>15.0</td>\n",
              "      <td>150000.0</td>\n",
              "    </tr>\n",
              "    <tr>\n",
              "      <th>3</th>\n",
              "      <td>36.0</td>\n",
              "      <td>Female</td>\n",
              "      <td>Bachelor's</td>\n",
              "      <td>Sales Associate</td>\n",
              "      <td>7.0</td>\n",
              "      <td>60000.0</td>\n",
              "    </tr>\n",
              "    <tr>\n",
              "      <th>4</th>\n",
              "      <td>52.0</td>\n",
              "      <td>Male</td>\n",
              "      <td>Master's</td>\n",
              "      <td>Director</td>\n",
              "      <td>20.0</td>\n",
              "      <td>200000.0</td>\n",
              "    </tr>\n",
              "    <tr>\n",
              "      <th>...</th>\n",
              "      <td>...</td>\n",
              "      <td>...</td>\n",
              "      <td>...</td>\n",
              "      <td>...</td>\n",
              "      <td>...</td>\n",
              "      <td>...</td>\n",
              "    </tr>\n",
              "    <tr>\n",
              "      <th>6699</th>\n",
              "      <td>49.0</td>\n",
              "      <td>Female</td>\n",
              "      <td>PhD</td>\n",
              "      <td>Director of Marketing</td>\n",
              "      <td>20.0</td>\n",
              "      <td>200000.0</td>\n",
              "    </tr>\n",
              "    <tr>\n",
              "      <th>6700</th>\n",
              "      <td>32.0</td>\n",
              "      <td>Male</td>\n",
              "      <td>High School</td>\n",
              "      <td>Sales Associate</td>\n",
              "      <td>3.0</td>\n",
              "      <td>50000.0</td>\n",
              "    </tr>\n",
              "    <tr>\n",
              "      <th>6701</th>\n",
              "      <td>30.0</td>\n",
              "      <td>Female</td>\n",
              "      <td>Bachelor's Degree</td>\n",
              "      <td>Financial Manager</td>\n",
              "      <td>4.0</td>\n",
              "      <td>55000.0</td>\n",
              "    </tr>\n",
              "    <tr>\n",
              "      <th>6702</th>\n",
              "      <td>46.0</td>\n",
              "      <td>Male</td>\n",
              "      <td>Master's Degree</td>\n",
              "      <td>Marketing Manager</td>\n",
              "      <td>14.0</td>\n",
              "      <td>140000.0</td>\n",
              "    </tr>\n",
              "    <tr>\n",
              "      <th>6703</th>\n",
              "      <td>26.0</td>\n",
              "      <td>Female</td>\n",
              "      <td>High School</td>\n",
              "      <td>Sales Executive</td>\n",
              "      <td>1.0</td>\n",
              "      <td>35000.0</td>\n",
              "    </tr>\n",
              "  </tbody>\n",
              "</table>\n",
              "<p>6698 rows × 6 columns</p>\n",
              "</div>"
            ],
            "text/plain": [
              "       Age  Gender    Education Level              Job Title  \\\n",
              "0     32.0    Male         Bachelor's      Software Engineer   \n",
              "1     28.0  Female           Master's           Data Analyst   \n",
              "2     45.0    Male                PhD         Senior Manager   \n",
              "3     36.0  Female         Bachelor's        Sales Associate   \n",
              "4     52.0    Male           Master's               Director   \n",
              "...    ...     ...                ...                    ...   \n",
              "6699  49.0  Female                PhD  Director of Marketing   \n",
              "6700  32.0    Male        High School        Sales Associate   \n",
              "6701  30.0  Female  Bachelor's Degree      Financial Manager   \n",
              "6702  46.0    Male    Master's Degree      Marketing Manager   \n",
              "6703  26.0  Female        High School        Sales Executive   \n",
              "\n",
              "      Years of Experience    Salary  \n",
              "0                     5.0   90000.0  \n",
              "1                     3.0   65000.0  \n",
              "2                    15.0  150000.0  \n",
              "3                     7.0   60000.0  \n",
              "4                    20.0  200000.0  \n",
              "...                   ...       ...  \n",
              "6699                 20.0  200000.0  \n",
              "6700                  3.0   50000.0  \n",
              "6701                  4.0   55000.0  \n",
              "6702                 14.0  140000.0  \n",
              "6703                  1.0   35000.0  \n",
              "\n",
              "[6698 rows x 6 columns]"
            ]
          },
          "execution_count": 44,
          "metadata": {},
          "output_type": "execute_result"
        }
      ],
      "source": [
        "df_cleaned"
      ]
    },
    {
      "cell_type": "code",
      "execution_count": 45,
      "id": "daaf04d2",
      "metadata": {
        "colab": {
          "base_uri": "https://localhost:8080/"
        },
        "id": "daaf04d2",
        "outputId": "fd40e5fa-6dab-4de0-c9f9-9e0319bda64b"
      },
      "outputs": [
        {
          "name": "stdout",
          "output_type": "stream",
          "text": [
            "\n",
            "Data Types:\n",
            "Age                    float64\n",
            "Gender                  object\n",
            "Education Level         object\n",
            "Job Title               object\n",
            "Years of Experience    float64\n",
            "Salary                 float64\n",
            "dtype: object\n"
          ]
        }
      ],
      "source": [
        "print(\"\\nData Types:\")\n",
        "print(df_cleaned.dtypes)"
      ]
    },
    {
      "cell_type": "code",
      "execution_count": 46,
      "id": "fag_XmHO4s3o",
      "metadata": {
        "colab": {
          "base_uri": "https://localhost:8080/"
        },
        "id": "fag_XmHO4s3o",
        "outputId": "adaaee4d-789c-40e2-c048-e1ead26636d5"
      },
      "outputs": [
        {
          "name": "stdout",
          "output_type": "stream",
          "text": [
            "               Age  Years of Experience         Salary\n",
            "count  6698.000000          6698.000000    6698.000000\n",
            "mean     33.623022             8.095178  115329.253061\n",
            "std       7.615784             6.060291   52789.792507\n",
            "min      21.000000             0.000000     350.000000\n",
            "25%      28.000000             3.000000   70000.000000\n",
            "50%      32.000000             7.000000  115000.000000\n",
            "75%      38.000000            12.000000  160000.000000\n",
            "max      62.000000            34.000000  250000.000000\n",
            "\n",
            "\n",
            "\n",
            "       Gender    Education Level          Job Title\n",
            "count    6698               6698               6698\n",
            "unique      3                  7                191\n",
            "top      Male  Bachelor's Degree  Software Engineer\n",
            "freq     3671               2265                518\n"
          ]
        }
      ],
      "source": [
        "# Summary statistics for categorical columns\n",
        "print(df_cleaned.describe(include='float'))\n",
        "print()\n",
        "print()\n",
        "print()\n",
        "print(df_cleaned.describe(include='object'))"
      ]
    },
    {
      "cell_type": "code",
      "execution_count": 47,
      "id": "07be2da6",
      "metadata": {
        "colab": {
          "base_uri": "https://localhost:8080/"
        },
        "id": "07be2da6",
        "outputId": "c78df5ce-c5cc-4bbe-ea11-77f004f3a975"
      },
      "outputs": [
        {
          "name": "stdout",
          "output_type": "stream",
          "text": [
            "250000.0\n"
          ]
        }
      ],
      "source": [
        "# 1. Find the maximum salary value\n",
        "max_salary = df_cleaned['Salary'].max()\n",
        "print(max_salary)"
      ]
    },
    {
      "cell_type": "code",
      "execution_count": 48,
      "id": "3809220a",
      "metadata": {
        "colab": {
          "base_uri": "https://localhost:8080/"
        },
        "id": "3809220a",
        "outputId": "c66aa6c4-29b6-40df-dd3f-6f86a10225d6"
      },
      "outputs": [
        {
          "name": "stdout",
          "output_type": "stream",
          "text": [
            "Employee(s) with Maximum Salary:\n",
            "       Age Gender    Education Level                 Job Title  \\\n",
            "30    50.0   Male         Bachelor's                       CEO   \n",
            "83    52.0   Male                PhD  Chief Technology Officer   \n",
            "5001  45.0   Male  Bachelor's Degree         Financial Manager   \n",
            "\n",
            "      Years of Experience    Salary  \n",
            "30                   25.0  250000.0  \n",
            "83                   24.0  250000.0  \n",
            "5001                 21.0  250000.0  \n"
          ]
        }
      ],
      "source": [
        "# 2. Get the row(s) with that maximum salary\n",
        "max_salary_row = df_cleaned[df_cleaned['Salary'] == max_salary]\n",
        "# 3. Display the result\n",
        "print(\"Employee(s) with Maximum Salary:\")\n",
        "print(max_salary_row)"
      ]
    },
    {
      "cell_type": "markdown",
      "id": "2358e3cf",
      "metadata": {
        "id": "2358e3cf"
      },
      "source": [
        "df_cleaned['Salary'] == max_salary\n",
        "\n",
        "This part creates a Boolean Series.\n",
        "\n",
        "It checks each row's salary in the Salary column and compares it to the max_salary value.\n",
        "\n",
        "Result: a Series of True or False values."
      ]
    },
    {
      "cell_type": "code",
      "execution_count": 49,
      "id": "c88a453b",
      "metadata": {
        "colab": {
          "base_uri": "https://localhost:8080/",
          "height": 1000
        },
        "id": "c88a453b",
        "outputId": "970efa28-36cd-4820-db14-79cd63a65db4"
      },
      "outputs": [
        {
          "data": {
            "text/plain": [
              "0     False\n",
              "1     False\n",
              "2     False\n",
              "3     False\n",
              "4     False\n",
              "5     False\n",
              "6     False\n",
              "7     False\n",
              "8     False\n",
              "9     False\n",
              "10    False\n",
              "11    False\n",
              "12    False\n",
              "13    False\n",
              "14    False\n",
              "15    False\n",
              "16    False\n",
              "17    False\n",
              "18    False\n",
              "19    False\n",
              "20    False\n",
              "21    False\n",
              "22    False\n",
              "23    False\n",
              "24    False\n",
              "25    False\n",
              "26    False\n",
              "27    False\n",
              "28    False\n",
              "29    False\n",
              "30     True\n",
              "31    False\n",
              "32    False\n",
              "33    False\n",
              "34    False\n",
              "35    False\n",
              "36    False\n",
              "37    False\n",
              "38    False\n",
              "39    False\n",
              "40    False\n",
              "41    False\n",
              "42    False\n",
              "43    False\n",
              "44    False\n",
              "45    False\n",
              "46    False\n",
              "47    False\n",
              "48    False\n",
              "49    False\n",
              "Name: Salary, dtype: bool"
            ]
          },
          "execution_count": 49,
          "metadata": {},
          "output_type": "execute_result"
        }
      ],
      "source": [
        "i=df_cleaned['Salary'] == max_salary\n",
        "i.head(50)"
      ]
    },
    {
      "cell_type": "code",
      "execution_count": 50,
      "id": "4f2ccecc",
      "metadata": {
        "colab": {
          "base_uri": "https://localhost:8080/"
        },
        "id": "4f2ccecc",
        "outputId": "d257e7c7-058c-45ff-d939-c6895874d029"
      },
      "outputs": [
        {
          "name": "stdout",
          "output_type": "stream",
          "text": [
            " Job Title List and Counts:\n",
            "Job Title\n",
            "Software Engineer                     518\n",
            "Data Scientist                        453\n",
            "Software Engineer Manager             376\n",
            "Data Analyst                          363\n",
            "Senior Project Engineer               318\n",
            "                                     ... \n",
            "Junior Research Scientist               1\n",
            "Senior Product Development Manager      1\n",
            "Junior Social Media Specialist          1\n",
            "Senior Software Architect               1\n",
            "Social Media Man                        1\n",
            "Name: count, Length: 191, dtype: int64\n"
          ]
        }
      ],
      "source": [
        "# 1. Get unique job titles and their counts\n",
        "job_title_counts = df_cleaned['Job Title'].value_counts()\n",
        "\n",
        "# 2. Display the result\n",
        "print(\" Job Title List and Counts:\")\n",
        "print(job_title_counts)"
      ]
    },
    {
      "cell_type": "code",
      "execution_count": 51,
      "id": "b206819d",
      "metadata": {
        "colab": {
          "base_uri": "https://localhost:8080/"
        },
        "id": "b206819d",
        "outputId": "405e29d7-9145-473b-f5a8-e4b7c268a8ae"
      },
      "outputs": [
        {
          "name": "stdout",
          "output_type": "stream",
          "text": [
            "Most common job title: Software Engineer (Software Engineer occurrences)\n",
            "Most common job title: 518 (518 occurrences)\n"
          ]
        }
      ],
      "source": [
        "# Get the job title that appears the most\n",
        "most_common_job_title = df_cleaned['Job Title'].value_counts().idxmax() # Index of max value in each column\n",
        "count = df_cleaned['Job Title'].value_counts().max() # Max value in each column\n",
        "\n",
        "print(f\"Most common job title: {most_common_job_title} ({most_common_job_title} occurrences)\")\n",
        "print(f\"Most common job title: {count} ({count} occurrences)\")\n"
      ]
    },
    {
      "cell_type": "code",
      "execution_count": 52,
      "id": "3a0b174e",
      "metadata": {
        "colab": {
          "base_uri": "https://localhost:8080/"
        },
        "id": "3a0b174e",
        "outputId": "610bc9d3-bd2e-473b-94a5-d00657496319"
      },
      "outputs": [
        {
          "name": "stdout",
          "output_type": "stream",
          "text": [
            " Highest Paid 'Software Engineer':\n",
            "      Age  Gender    Education Level          Job Title  Years of Experience  \\\n",
            "952  42.0  Female  Bachelor's Degree  Software Engineer                 13.0   \n",
            "\n",
            "       Salary  \n",
            "952  197000.0  \n"
          ]
        }
      ],
      "source": [
        "most_common_title = 'Software Engineer'\n",
        "\n",
        "# 1. Filter rows where Job Title is 'Software Engineer'\n",
        "software_engineers = df_cleaned[df_cleaned['Job Title'] == most_common_title]\n",
        "\n",
        "# 2. Find max salary among Software Engineers\n",
        "max_salary = software_engineers['Salary'].max()\n",
        "\n",
        "# 3. Get row(s) with that max salary\n",
        "top_earner = software_engineers[software_engineers['Salary'] == max_salary]\n",
        "\n",
        "# 4. Show result\n",
        "print(f\" Highest Paid '{most_common_title}':\")\n",
        "print(top_earner)\n"
      ]
    },
    {
      "cell_type": "code",
      "execution_count": 53,
      "id": "ead1c177",
      "metadata": {
        "id": "ead1c177",
        "outputId": "dbff8087-79f0-42d6-c70d-85954c94f8bb"
      },
      "outputs": [
        {
          "name": "stdout",
          "output_type": "stream",
          "text": [
            " Person(s) with Maximum Age (62.0 years):\n",
            "       Age Gender Education Level                  Job Title  \\\n",
            "1225  62.0   Male             PhD  Software Engineer Manager   \n",
            "1236  62.0   Male             PhD  Software Engineer Manager   \n",
            "1258  62.0   Male             PhD  Software Engineer Manager   \n",
            "1304  62.0   Male             PhD  Software Engineer Manager   \n",
            "1305  62.0   Male             PhD  Software Engineer Manager   \n",
            "\n",
            "      Years of Experience    Salary  \n",
            "1225                 19.0  200000.0  \n",
            "1236                 20.0  200000.0  \n",
            "1258                 19.0  200000.0  \n",
            "1304                 20.0  200000.0  \n",
            "1305                 19.0  200000.0  \n"
          ]
        }
      ],
      "source": [
        "# 1. Find the maximum age\n",
        "max_age = df_cleaned['Age'].max() # Receives the max age from the age column\n",
        "\n",
        "# 2. Get the row(s) where Age equals max_age\n",
        "oldest_person = df_cleaned[df_cleaned['Age'] == max_age] # Find the peoples who have age == max_age\n",
        "\n",
        "# 3. Display the result\n",
        "print(f\" Person(s) with Maximum Age ({max_age} years):\")\n",
        "print(oldest_person) # Prints the row having age == max_age\n"
      ]
    },
    {
      "cell_type": "code",
      "execution_count": 54,
      "id": "6ecda622",
      "metadata": {
        "colab": {
          "base_uri": "https://localhost:8080/"
        },
        "id": "6ecda622",
        "outputId": "9487742f-e48f-4f87-cde0-687fc2b9af47"
      },
      "outputs": [
        {
          "name": "stdout",
          "output_type": "stream",
          "text": [
            "Gender\n",
            "Female    107888.998672\n",
            "Male      121395.697630\n",
            "Other     125869.857143\n",
            "Name: Salary, dtype: float64\n"
          ]
        }
      ],
      "source": [
        "#average salary by gender:\n",
        "avg_salary_gender = df_cleaned.groupby('Gender')['Salary'].mean()  # df_cleaned.groupby('Gender')  This groups the rows of the DataFrame by the Gender column.\n",
        "# ['Salary'] After grouping, we pick the Salary column from each group and calculate the mean (average) salary\n",
        "print(avg_salary_gender)\n"
      ]
    },
    {
      "cell_type": "markdown",
      "id": "7ca48d13",
      "metadata": {
        "id": "7ca48d13"
      },
      "source": [
        "#############################\n",
        ".groupby('Gender')\n",
        "This groups the entire data based on unique values in the 'Gender' column.\n",
        "\n",
        "\n",
        "\n"
      ]
    },
    {
      "cell_type": "code",
      "execution_count": 55,
      "id": "ac48f7ca",
      "metadata": {
        "colab": {
          "base_uri": "https://localhost:8080/"
        },
        "id": "ac48f7ca",
        "outputId": "c89a1857-757b-4b1d-d0ea-c050cf2f531d"
      },
      "outputs": [
        {
          "name": "stdout",
          "output_type": "stream",
          "text": [
            "Education Level\n",
            "Bachelor's Degree    2265\n",
            "Master's Degree      1572\n",
            "PhD                  1368\n",
            "Bachelor's            756\n",
            "High School           448\n",
            "Master's              288\n",
            "phD                     1\n",
            "Name: count, dtype: int64\n"
          ]
        }
      ],
      "source": [
        "edu_counts = df_cleaned['Education Level'].value_counts()\n",
        "print(edu_counts)\n"
      ]
    },
    {
      "cell_type": "code",
      "execution_count": 56,
      "id": "7bb0ab32",
      "metadata": {
        "colab": {
          "base_uri": "https://localhost:8080/"
        },
        "id": "7bb0ab32",
        "outputId": "5bb4301c-3370-4b5b-9e34-a2e6cd0157d7"
      },
      "outputs": [
        {
          "name": "stdout",
          "output_type": "stream",
          "text": [
            "Number of people with Master's Degree: 1572\n"
          ]
        }
      ],
      "source": [
        "# Count how many have \"Master's Degree\" in Education Level\n",
        "master_count = df_cleaned[df_cleaned['Education Level'] == \"Master's Degree\"].shape[0] # shape return s dimensions in tuple where shape[0] gives first element where it is stored as rows\n",
        "\n",
        "print(f\"Number of people with Master's Degree: {master_count}\")"
      ]
    },
    {
      "cell_type": "code",
      "execution_count": 57,
      "id": "73687b7b",
      "metadata": {
        "colab": {
          "base_uri": "https://localhost:8080/"
        },
        "id": "73687b7b",
        "outputId": "00d098a5-9ec0-48fd-c053-fd25cfe71ed4"
      },
      "outputs": [
        {
          "name": "stdout",
          "output_type": "stream",
          "text": [
            "       Age  Gender    Education Level                    Job Title  \\\n",
            "0     32.0    Male         Bachelor's            Software Engineer   \n",
            "3     36.0  Female         Bachelor's              Sales Associate   \n",
            "7     31.0    Male         Bachelor's                Sales Manager   \n",
            "9     38.0    Male                PhD             Senior Scientist   \n",
            "12    35.0    Male         Bachelor's            Financial Analyst   \n",
            "...    ...     ...                ...                          ...   \n",
            "6691  36.0  Female                PhD            Marketing Manager   \n",
            "6695  33.0  Female  Bachelor's Degree    Content Marketing Manager   \n",
            "6698  37.0    Male  Bachelor's Degree  Junior Sales Representative   \n",
            "6700  32.0    Male        High School              Sales Associate   \n",
            "6701  30.0  Female  Bachelor's Degree            Financial Manager   \n",
            "\n",
            "      Years of Experience    Salary  \n",
            "0                     5.0   90000.0  \n",
            "3                     7.0   60000.0  \n",
            "7                     4.0   80000.0  \n",
            "9                    10.0  110000.0  \n",
            "12                    6.0   65000.0  \n",
            "...                   ...       ...  \n",
            "6691                  9.0   95000.0  \n",
            "6695                  7.0   90000.0  \n",
            "6698                  6.0   75000.0  \n",
            "6700                  3.0   50000.0  \n",
            "6701                  4.0   55000.0  \n",
            "\n",
            "[2907 rows x 6 columns]\n"
          ]
        },
        {
          "name": "stderr",
          "output_type": "stream",
          "text": [
            "C:\\Users\\bipin\\AppData\\Local\\Temp\\ipykernel_19020\\1299777948.py:2: UserWarning: Boolean Series key will be reindexed to match DataFrame index.\n",
            "  age_30_40 = df_cleaned[(df_cleaned['Age'] >= 30) & (df['Age'] <= 40)]\n"
          ]
        }
      ],
      "source": [
        "#find the age of people under 30  to 40:\n",
        "age_30_40 = df_cleaned[(df_cleaned['Age'] >= 30) & (df['Age'] <= 40)]\n",
        "print(age_30_40)\n"
      ]
    },
    {
      "cell_type": "code",
      "execution_count": 58,
      "id": "3d37876d",
      "metadata": {
        "colab": {
          "base_uri": "https://localhost:8080/"
        },
        "id": "3d37876d",
        "outputId": "925a65c8-5bd3-45b9-a9bb-f4d9f9a60e67"
      },
      "outputs": [
        {
          "name": "stdout",
          "output_type": "stream",
          "text": [
            "                        Job Title   Age\n",
            "0               Software Engineer  32.0\n",
            "3                 Sales Associate  36.0\n",
            "7                   Sales Manager  31.0\n",
            "9                Senior Scientist  38.0\n",
            "12              Financial Analyst  35.0\n",
            "...                           ...   ...\n",
            "6691            Marketing Manager  36.0\n",
            "6695    Content Marketing Manager  33.0\n",
            "6698  Junior Sales Representative  37.0\n",
            "6700              Sales Associate  32.0\n",
            "6701            Financial Manager  30.0\n",
            "\n",
            "[2907 rows x 2 columns]\n"
          ]
        }
      ],
      "source": [
        "# Filter Job title aged between 30 and 40\n",
        "abc = df_cleaned[df_cleaned['Age'].between(30, 40)][['Job Title', 'Age']]\n",
        "print(abc)\n"
      ]
    },
    {
      "cell_type": "code",
      "execution_count": 59,
      "id": "cc50a239",
      "metadata": {
        "colab": {
          "base_uri": "https://localhost:8080/"
        },
        "id": "cc50a239",
        "outputId": "81b5b674-b62f-45b9-f4d5-bdafcdd61ebe"
      },
      "outputs": [
        {
          "name": "stdout",
          "output_type": "stream",
          "text": [
            " Average salary (age 30–40): 124828.79738562091\n"
          ]
        }
      ],
      "source": [
        "#average salary in age 30-40 :\n",
        "avg_salary_30_40 = age_30_40['Salary'].mean()\n",
        "print(f\" Average salary (age 30–40): {avg_salary_30_40}\")\n"
      ]
    },
    {
      "cell_type": "code",
      "execution_count": null,
      "id": "KHMkKbNW_1OF",
      "metadata": {
        "id": "KHMkKbNW_1OF"
      },
      "outputs": [],
      "source": []
    }
  ],
  "metadata": {
    "colab": {
      "provenance": []
    },
    "kernelspec": {
      "display_name": "Python 3",
      "language": "python",
      "name": "python3"
    },
    "language_info": {
      "codemirror_mode": {
        "name": "ipython",
        "version": 3
      },
      "file_extension": ".py",
      "mimetype": "text/x-python",
      "name": "python",
      "nbconvert_exporter": "python",
      "pygments_lexer": "ipython3",
      "version": "3.12.6"
    }
  },
  "nbformat": 4,
  "nbformat_minor": 5
}
