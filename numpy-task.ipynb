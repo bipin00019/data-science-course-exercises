{
  "nbformat": 4,
  "nbformat_minor": 0,
  "metadata": {
    "colab": {
      "provenance": []
    },
    "kernelspec": {
      "name": "python3",
      "display_name": "Python 3"
    },
    "language_info": {
      "name": "python"
    }
  },
  "cells": [
    {
      "cell_type": "markdown",
      "source": [
        "Create a 1D NumPy array with 8 zeros and change the last element to 1.\n",
        "(Hint: Use np.zeros)"
      ],
      "metadata": {
        "id": "V24Wt30NCN_v"
      }
    },
    {
      "cell_type": "code",
      "source": [
        "import numpy as np\n",
        "zeros_array = np.zeros(8)\n",
        "print(zeros_array)\n",
        "zeros_array[-1] = 1\n",
        "print(\"Changing last value :\",zeros_array)"
      ],
      "metadata": {
        "colab": {
          "base_uri": "https://localhost:8080/"
        },
        "id": "QVdYCoteCQ4W",
        "outputId": "5d90bf13-af28-49ee-ccd0-414af018ba8b"
      },
      "execution_count": 22,
      "outputs": [
        {
          "output_type": "stream",
          "name": "stdout",
          "text": [
            "[0. 0. 0. 0. 0. 0. 0. 0.]\n",
            "Changing last value : [0. 0. 0. 0. 0. 0. 0. 1.]\n"
          ]
        }
      ]
    },
    {
      "cell_type": "markdown",
      "source": [
        "Generate a 1D array of 5 elements, equally spaced between 10 and 20 (inclusive).\n",
        "(Hint: Use np.linspace)"
      ],
      "metadata": {
        "id": "pzo6xcCUCvkl"
      }
    },
    {
      "cell_type": "code",
      "source": [
        "arr = np.linspace(10,20,5)\n",
        "print(arr)"
      ],
      "metadata": {
        "colab": {
          "base_uri": "https://localhost:8080/"
        },
        "id": "BmwtmGvSC2wG",
        "outputId": "05b0125d-d4d8-4fe5-890b-94457d14ae3c"
      },
      "execution_count": 23,
      "outputs": [
        {
          "output_type": "stream",
          "name": "stdout",
          "text": [
            "[10.  12.5 15.  17.5 20. ]\n"
          ]
        }
      ]
    },
    {
      "cell_type": "markdown",
      "source": [
        "Create a 1D array using np.arange starting from 3 to 30 with a step of 3, and then reverse it.\n",
        "(Hint: Slicing can reverse the array)\n"
      ],
      "metadata": {
        "id": "dpfCRNziC-bh"
      }
    },
    {
      "cell_type": "code",
      "source": [
        "arr = np.arange(3,31,3)\n",
        "print(f\"Array : {arr}\")\n",
        "print(f\"Reversed array : {arr[::-1]}\")"
      ],
      "metadata": {
        "colab": {
          "base_uri": "https://localhost:8080/"
        },
        "id": "mnn76i3YDDMF",
        "outputId": "f53bcfe7-b2bf-4f7f-caf8-0af07da1baa0"
      },
      "execution_count": 24,
      "outputs": [
        {
          "output_type": "stream",
          "name": "stdout",
          "text": [
            "Array : [ 3  6  9 12 15 18 21 24 27 30]\n",
            "Reversed array : [30 27 24 21 18 15 12  9  6  3]\n"
          ]
        }
      ]
    },
    {
      "cell_type": "markdown",
      "source": [
        "Given a list my_list = [3, 6, 9, 12], convert it to a NumPy array and multiply each element by 2."
      ],
      "metadata": {
        "id": "VkyZroL5DVo6"
      }
    },
    {
      "cell_type": "code",
      "source": [
        "my_list = [3, 6, 9, 12]\n",
        "numpy_list = np.array(my_list)\n",
        "print(f\"Numpy List : {numpy_list}\")\n",
        "print(f\"Multiplied by 2 : {numpy_list * 2}\")"
      ],
      "metadata": {
        "colab": {
          "base_uri": "https://localhost:8080/"
        },
        "id": "KHTu618RD9ur",
        "outputId": "1a4db0e7-22b1-4f4c-8ab6-c0f880febdc6"
      },
      "execution_count": 25,
      "outputs": [
        {
          "output_type": "stream",
          "name": "stdout",
          "text": [
            "Numpy List : [ 3  6  9 12]\n",
            "Multiplied by 2 : [ 6 12 18 24]\n"
          ]
        }
      ]
    },
    {
      "cell_type": "markdown",
      "source": [
        "Create an empty 1D array of length 6, and assign values from 0 to 5 using a loop.\n",
        "(Hint: Use np.empty + loop)"
      ],
      "metadata": {
        "id": "Oe29rzHOERHB"
      }
    },
    {
      "cell_type": "code",
      "source": [
        "empty_array = np.empty(6 , dtype=int)\n",
        "print(f\"Empty array : {empty_array}\")\n",
        "n = 0\n",
        "for i in empty_array:\n",
        "  empty_array[n] = n\n",
        "  n +=1\n",
        "\n",
        "print(\"Updated empty array :\",empty_array)"
      ],
      "metadata": {
        "colab": {
          "base_uri": "https://localhost:8080/"
        },
        "id": "77ZSphjeEVtO",
        "outputId": "ea255270-d4cf-4def-950c-5752263ef090"
      },
      "execution_count": 26,
      "outputs": [
        {
          "output_type": "stream",
          "name": "stdout",
          "text": [
            "Empty array : [0 1 2 3 4 5]\n",
            "Updated empty array : [0 1 2 3 4 5]\n"
          ]
        }
      ]
    },
    {
      "cell_type": "markdown",
      "source": [
        "Use np.ones to create a 1D array of 4 ones and convert the data type to int.\n",
        "(Hint: Use dtype=int)"
      ],
      "metadata": {
        "id": "SqMjmWLCFpTS"
      }
    },
    {
      "cell_type": "code",
      "source": [
        "ones_array = np.ones(4, dtype = int)\n",
        "print(f\"Array : {ones_array}\")"
      ],
      "metadata": {
        "colab": {
          "base_uri": "https://localhost:8080/"
        },
        "id": "F3ehZ50CFq7C",
        "outputId": "7235c18e-5057-494b-c1df-6be274498b9a"
      },
      "execution_count": 27,
      "outputs": [
        {
          "output_type": "stream",
          "name": "stdout",
          "text": [
            "Array : [1 1 1 1]\n"
          ]
        }
      ]
    },
    {
      "cell_type": "markdown",
      "source": [
        "Create a 1D array from 100 to 200 (not inclusive) with a step of 25 using np.arange. Then, find the mean of the array."
      ],
      "metadata": {
        "id": "RK4mUObCF1vu"
      }
    },
    {
      "cell_type": "code",
      "source": [
        "arr = np.arange(100, 200, 25)\n",
        "print(arr)\n",
        "print(f\"Mean : {arr.mean()}\")"
      ],
      "metadata": {
        "colab": {
          "base_uri": "https://localhost:8080/"
        },
        "id": "3NRV0Wu3F3Pu",
        "outputId": "1cc741dc-7bb8-49bb-c1fc-d31c48be1cfc"
      },
      "execution_count": 28,
      "outputs": [
        {
          "output_type": "stream",
          "name": "stdout",
          "text": [
            "[100 125 150 175]\n",
            "Mean : 137.5\n"
          ]
        }
      ]
    },
    {
      "cell_type": "markdown",
      "source": [
        "Generate a 1D array of 10 values between 0 and 1 (inclusive), then round all elements to 2 decimal places."
      ],
      "metadata": {
        "id": "-FUQhMQLGKoa"
      }
    },
    {
      "cell_type": "code",
      "source": [
        "arr = np.linspace(0, 1, 10) # Creates 10 element between 0 and 1\n",
        "rounded_arr = np.round(arr, 2)\n",
        "print(f\"Original array : {arr}\")\n",
        "print(f\"Rouned array : {rounded_arr}\")"
      ],
      "metadata": {
        "colab": {
          "base_uri": "https://localhost:8080/"
        },
        "id": "x1WiBuPOGMjC",
        "outputId": "b7591e33-eebf-4d1b-f98a-c5e27a23afa8"
      },
      "execution_count": 29,
      "outputs": [
        {
          "output_type": "stream",
          "name": "stdout",
          "text": [
            "Original array : [0.         0.11111111 0.22222222 0.33333333 0.44444444 0.55555556\n",
            " 0.66666667 0.77777778 0.88888889 1.        ]\n",
            "Rouned array : [0.   0.11 0.22 0.33 0.44 0.56 0.67 0.78 0.89 1.  ]\n"
          ]
        }
      ]
    },
    {
      "cell_type": "markdown",
      "source": [
        "Use np.empty to create a 1D array of 4 elements and explain the possible values inside it. Why might they look “random”?"
      ],
      "metadata": {
        "id": "-7FOEZFUGsp1"
      }
    },
    {
      "cell_type": "code",
      "source": [
        "arr = np.empty(4)\n",
        "# it creates array with 4 allocated memory but doesnot initialize the elements\n",
        "# its value depends on the data what was stored before in that memory so it looks as random(which are not truely random but, just leftovers)\n",
        "print(arr)\n"
      ],
      "metadata": {
        "colab": {
          "base_uri": "https://localhost:8080/"
        },
        "id": "BWSzSJc-GuWh",
        "outputId": "81fc80be-8f43-4798-d3b7-05b7edd6111f"
      },
      "execution_count": 30,
      "outputs": [
        {
          "output_type": "stream",
          "name": "stdout",
          "text": [
            "[4.94e-322 6.18e-322 7.41e-322 8.65e-322]\n"
          ]
        }
      ]
    },
    {
      "cell_type": "markdown",
      "source": [
        "Combine two 1D arrays: one created using np.ones(3) and the other using np.arange(3). Show the final result."
      ],
      "metadata": {
        "id": "dx6m69DlI_8D"
      }
    },
    {
      "cell_type": "code",
      "source": [
        "ones_array = np.ones(3)\n",
        "arr = np.arange(3)\n",
        "print(f\"Ones array : {ones_array}\")\n",
        "print(f\"Arange array : {arr}\")\n",
        "print(f\"Result : {ones_array+arr}\")"
      ],
      "metadata": {
        "colab": {
          "base_uri": "https://localhost:8080/"
        },
        "id": "XaiLrBs4JBz3",
        "outputId": "c255dae3-93fd-4812-b530-0f89ca494df0"
      },
      "execution_count": 31,
      "outputs": [
        {
          "output_type": "stream",
          "name": "stdout",
          "text": [
            "Ones array : [1. 1. 1.]\n",
            "Arange array : [0 1 2]\n",
            "Result : [1. 2. 3.]\n"
          ]
        }
      ]
    }
  ]
}