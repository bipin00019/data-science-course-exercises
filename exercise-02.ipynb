{
  "nbformat": 4,
  "nbformat_minor": 0,
  "metadata": {
    "colab": {
      "provenance": []
    },
    "kernelspec": {
      "name": "python3",
      "display_name": "Python 3"
    },
    "language_info": {
      "name": "python"
    }
  },
  "cells": [
    {
      "cell_type": "markdown",
      "source": [
        "Python Data Structures Assignment\n",
        "\n",
        "Section 1: Lists\n",
        "1.\tCreate a List:\n",
        "Create a list containing the numbers 1 through 15. Print the list.\n"
      ],
      "metadata": {
        "id": "v8KNjwm_2kkz"
      }
    },
    {
      "cell_type": "code",
      "source": [
        "l = list(range(1,16))\n",
        "print(\"List of number from 1 to 15 :\",l)"
      ],
      "metadata": {
        "colab": {
          "base_uri": "https://localhost:8080/"
        },
        "id": "pHoyKVOY2w4d",
        "outputId": "dd681248-8b7a-4755-8edc-b3dd22931d6e"
      },
      "execution_count": 5,
      "outputs": [
        {
          "output_type": "stream",
          "name": "stdout",
          "text": [
            "List of number from 1 to 15 : [1, 2, 3, 4, 5, 6, 7, 8, 9, 10, 11, 12, 13, 14, 15]\n"
          ]
        }
      ]
    },
    {
      "cell_type": "markdown",
      "source": [
        "2.\tList of Strings:\n",
        "\n",
        "Create a list of your five favorite fruits. Print the list.\n"
      ],
      "metadata": {
        "id": "tJ9RmCV63a7-"
      }
    },
    {
      "cell_type": "code",
      "source": [
        "fruits = [\"Mango\", \"Banana\", \"Apple\", \"Orange\", \"Peach\"]\n",
        "print(\"list of favorite frutis :\",fruits)"
      ],
      "metadata": {
        "colab": {
          "base_uri": "https://localhost:8080/"
        },
        "id": "4sO70q8g3exI",
        "outputId": "8e2716b6-08c5-4a34-f4c3-a5477b101f10"
      },
      "execution_count": 6,
      "outputs": [
        {
          "output_type": "stream",
          "name": "stdout",
          "text": [
            "list of favorite frutis : ['Mango', 'Banana', 'Apple', 'Orange', 'Peach']\n"
          ]
        }
      ]
    },
    {
      "cell_type": "markdown",
      "source": [
        "3.\tAccessing Elements:\n",
        "\n",
        "Given the list [10, 20, 30, 40, 50], print the first and last element using positive and negative indexing.\n"
      ],
      "metadata": {
        "id": "W0Gg5aPn4Iun"
      }
    },
    {
      "cell_type": "code",
      "source": [
        "numbers =  [10, 20, 30, 40, 50]\n",
        "print(\"First element using positive indexing :\",numbers[0])\n",
        "print(\"Last element using positive indexing :\",numbers[4])\n",
        "print(\"First element using negative indexing :\",numbers[-5])\n",
        "print(\"Last element using negative indexing :\",numbers[-1])"
      ],
      "metadata": {
        "colab": {
          "base_uri": "https://localhost:8080/"
        },
        "id": "ox5HGCBp4KH3",
        "outputId": "e52d478f-b465-468e-ea53-351a8304355c"
      },
      "execution_count": 7,
      "outputs": [
        {
          "output_type": "stream",
          "name": "stdout",
          "text": [
            "First element using positive indexing : 10\n",
            "Last element using positive indexing : 50\n",
            "First element using negative indexing : 10\n",
            "Last element using negative indexing : 50\n"
          ]
        }
      ]
    },
    {
      "cell_type": "markdown",
      "source": [
        "4.\tList Length:\n",
        "\n",
        "Create a list of any 5 items and print its length using the len() function."
      ],
      "metadata": {
        "id": "cnb9JZpw4vmI"
      }
    },
    {
      "cell_type": "code",
      "source": [
        "fruits = [\"Mango\", \"Banana\", \"Apple\", \"Orange\", \"Peach\"]\n",
        "print(f\"length of list : {fruits}\")"
      ],
      "metadata": {
        "colab": {
          "base_uri": "https://localhost:8080/"
        },
        "id": "JlS64fh4426u",
        "outputId": "e3f02c92-af99-4e99-e285-1802538bfa1a"
      },
      "execution_count": 8,
      "outputs": [
        {
          "output_type": "stream",
          "name": "stdout",
          "text": [
            "length of list : ['Mango', 'Banana', 'Apple', 'Orange', 'Peach']\n"
          ]
        }
      ]
    },
    {
      "cell_type": "markdown",
      "source": [
        "5.\tAppending Elements:\n",
        "\n",
        "Start with an empty list and append the numbers 1, 2, and 3. Print the list.\n"
      ],
      "metadata": {
        "id": "47ZforN85LmO"
      }
    },
    {
      "cell_type": "code",
      "source": [
        "numbers = []\n",
        "numbers.append(1)\n",
        "numbers.append(2)\n",
        "numbers.append(3)\n",
        "\n",
        "print(\"List of numbers :\",numbers)"
      ],
      "metadata": {
        "colab": {
          "base_uri": "https://localhost:8080/"
        },
        "id": "mQLl8jwo5OCX",
        "outputId": "266e61a8-2b99-4f48-a0b1-5e915fad99de"
      },
      "execution_count": 3,
      "outputs": [
        {
          "output_type": "stream",
          "name": "stdout",
          "text": [
            "List of numbers : [1, 2, 3]\n"
          ]
        }
      ]
    },
    {
      "cell_type": "markdown",
      "source": [
        "6.\tInserting an Element:\n",
        "\n",
        "Given a list [1, 3, 4], insert the number 2 at the correct position so that the list becomes [1, 2, 3, 4].\n"
      ],
      "metadata": {
        "id": "rVzmmPgw6MM6"
      }
    },
    {
      "cell_type": "code",
      "source": [
        "num = [1,3,4]\n",
        "print(\"Old list :\",num)\n",
        "num.insert(1,2) # here in insert funtion first element is index and sesond one is value=> insert(index, value)\n",
        "print(\"New list after adding in the index 1 :\",num)"
      ],
      "metadata": {
        "colab": {
          "base_uri": "https://localhost:8080/"
        },
        "id": "T1cpCTTL6Oo2",
        "outputId": "1ddfaff1-d079-4325-e23e-e9b5d4d362f7"
      },
      "execution_count": 4,
      "outputs": [
        {
          "output_type": "stream",
          "name": "stdout",
          "text": [
            "Old list : [1, 3, 4]\n",
            "New list after adding in the index 1 : [1, 2, 3, 4]\n"
          ]
        }
      ]
    },
    {
      "cell_type": "markdown",
      "source": [
        "7.\tRemoving an Element:\n",
        "\n",
        "Remove the number 3 from the list [1, 2, 3, 4, 5] using a list method and print the new list."
      ],
      "metadata": {
        "id": "x0jPPiKq7fTk"
      }
    },
    {
      "cell_type": "code",
      "source": [
        "num = [1,2,3,4,5]\n",
        "print(\"Original list :\", num)\n",
        "num.remove(3)\n",
        "print(\"New list after removing 3 from the list :\",num)"
      ],
      "metadata": {
        "colab": {
          "base_uri": "https://localhost:8080/"
        },
        "id": "-z8zeqd47iU3",
        "outputId": "82c5cd63-2a34-4cbe-de20-d87fcede5b4a"
      },
      "execution_count": 5,
      "outputs": [
        {
          "output_type": "stream",
          "name": "stdout",
          "text": [
            "Original list : [1, 2, 3, 4, 5]\n",
            "New list after removing 3 from the list : [1, 2, 4, 5]\n"
          ]
        }
      ]
    },
    {
      "cell_type": "markdown",
      "source": [
        "8.\tPopping an Element:\n",
        "\n",
        "Given the list [10, 20, 30, 40], pop the last element and print the element and the updated list.\n"
      ],
      "metadata": {
        "id": "VQq27u8s8Tmq"
      }
    },
    {
      "cell_type": "code",
      "source": [
        "numbers = [10, 20, 30, 40]\n",
        "print(\"Original list :\", numbers)\n",
        "numbers.pop(-1)\n",
        "print(\"New list after popping last element :\", numbers)"
      ],
      "metadata": {
        "colab": {
          "base_uri": "https://localhost:8080/"
        },
        "id": "ctXw6st58X_6",
        "outputId": "0c8bcdb1-e838-444e-91d7-a5ac565b8799"
      },
      "execution_count": 6,
      "outputs": [
        {
          "output_type": "stream",
          "name": "stdout",
          "text": [
            "Original list : [10, 20, 30, 40]\n",
            "New list after popping last element : [10, 20, 30]\n"
          ]
        }
      ]
    },
    {
      "cell_type": "markdown",
      "source": [
        "9.\tSlicing a List:\n",
        "\n",
        "Given the list [0, 1, 2, 3, 4, 5], print a slice that contains the elements from index 2 to 4.\n"
      ],
      "metadata": {
        "id": "PHNupEEk89EO"
      }
    },
    {
      "cell_type": "code",
      "source": [
        "numbers = [0, 1, 2, 3, 4, 5]\n",
        "print(\"Original list :\", numbers)\n",
        "numbers = numbers[2:5]\n",
        "print(\"Updated list from index 2 to 4 :\", numbers)\n"
      ],
      "metadata": {
        "colab": {
          "base_uri": "https://localhost:8080/"
        },
        "id": "VuuNDg_Q9Aa-",
        "outputId": "47bb90f5-ba1f-4216-f897-8dcde01ed35a"
      },
      "execution_count": 11,
      "outputs": [
        {
          "output_type": "stream",
          "name": "stdout",
          "text": [
            "Original list : [0, 1, 2, 3, 4, 5]\n",
            "Updated list from index 2 to 4 : [2, 3, 4]\n"
          ]
        }
      ]
    },
    {
      "cell_type": "markdown",
      "source": [
        "10.\tList Concatenation:\n",
        "\n",
        "Concatenate two lists, e.g., [1, 2, 3] and [4, 5, 6], and print the resulting list.\n"
      ],
      "metadata": {
        "id": "Kh0urWF6-I1O"
      }
    },
    {
      "cell_type": "code",
      "source": [
        "num1 = [1,2,3]\n",
        "num2 = [4,5,6]\n",
        "concatenated_list = num1 + num2\n",
        "print(f\"Original list : {num1} and {num2} \\nConcatenated list :{concatenated_list}\")"
      ],
      "metadata": {
        "colab": {
          "base_uri": "https://localhost:8080/"
        },
        "id": "RzPSoKDB-J4a",
        "outputId": "4c1ec026-304d-45c3-93f8-b3caa6dfb8a7"
      },
      "execution_count": 13,
      "outputs": [
        {
          "output_type": "stream",
          "name": "stdout",
          "text": [
            "Original list : [1, 2, 3] and [4, 5, 6] \n",
            "Concatenated list :[1, 2, 3, 4, 5, 6]\n"
          ]
        }
      ]
    },
    {
      "cell_type": "markdown",
      "source": [
        "11.\tRepeating a List:\n",
        "\n",
        "Create a list [1, 2] and print the list repeated three times.\n"
      ],
      "metadata": {
        "id": "jFk2Il3w-9c-"
      }
    },
    {
      "cell_type": "code",
      "source": [
        "num = [1,2]\n",
        "repeated_num = num * 3\n",
        "print(\"Original list :\",num)\n",
        "print(\"Repeated list :\",repeated_num)"
      ],
      "metadata": {
        "colab": {
          "base_uri": "https://localhost:8080/"
        },
        "id": "k3uafYi5_A8u",
        "outputId": "dfbc72a7-c46e-484f-b8c8-086ce48ffb3a"
      },
      "execution_count": 17,
      "outputs": [
        {
          "output_type": "stream",
          "name": "stdout",
          "text": [
            "Original list : [1, 2]\n",
            "Repeated list : [1, 2, 1, 2, 1, 2]\n"
          ]
        }
      ]
    },
    {
      "cell_type": "code",
      "source": [
        "original_list = [1,2,3,4,5]\n",
        "copy_list = original_list.copy()\n",
        "print(f\"Original list :{original_list} \\nCopied list : {copy_list}\")"
      ],
      "metadata": {
        "colab": {
          "base_uri": "https://localhost:8080/"
        },
        "id": "9EjEBHwPAMQ3",
        "outputId": "7532ed96-da14-40f1-ed34-50ccf2aa9f0e"
      },
      "execution_count": 18,
      "outputs": [
        {
          "output_type": "stream",
          "name": "stdout",
          "text": [
            "Original list :[1, 2, 3, 4, 5] \n",
            "Copied list : [1, 2, 3, 4, 5]\n"
          ]
        }
      ]
    },
    {
      "cell_type": "markdown",
      "source": [
        "13.\tClearing a List:\n",
        "\n",
        "Given any list, use a method to clear all its elements and then print the empty list.\n"
      ],
      "metadata": {
        "id": "Ci4Wb4CuAeG6"
      }
    },
    {
      "cell_type": "code",
      "source": [
        "original_list = [1,2,3,4,5]\n",
        "print(\"Orignal list :\",original_list)\n",
        "original_list.clear()\n",
        "print(\"Original list after clearing :\",original_list)"
      ],
      "metadata": {
        "colab": {
          "base_uri": "https://localhost:8080/"
        },
        "id": "qt7zj5s0AhGS",
        "outputId": "53801379-25cb-423c-c2be-f8e41a592323"
      },
      "execution_count": 19,
      "outputs": [
        {
          "output_type": "stream",
          "name": "stdout",
          "text": [
            "Orignal list : [1, 2, 3, 4, 5]\n",
            "Original list after clearing : []\n"
          ]
        }
      ]
    },
    {
      "cell_type": "markdown",
      "source": [
        "Section 2: Tuples\n",
        "1.\tCreate a Tuple:\n",
        "Create a tuple containing the numbers 1, 2, and 3. Print the tuple.\n"
      ],
      "metadata": {
        "id": "DwQ9djMcLkIE"
      }
    },
    {
      "cell_type": "code",
      "source": [
        "my_tuple = (1,2,4)\n",
        "print(my_tuple)"
      ],
      "metadata": {
        "colab": {
          "base_uri": "https://localhost:8080/"
        },
        "id": "8CJB3xu6LnSz",
        "outputId": "91e1e977-bd2a-49df-f91f-9f66eced6a48"
      },
      "execution_count": 20,
      "outputs": [
        {
          "output_type": "stream",
          "name": "stdout",
          "text": [
            "(1, 2, 4)\n"
          ]
        }
      ]
    },
    {
      "cell_type": "markdown",
      "source": [
        "2.\tTuple of Strings:\n",
        "\n",
        "Create a tuple of three different color names and print it.\n"
      ],
      "metadata": {
        "id": "Oj-J3_-dLzsz"
      }
    },
    {
      "cell_type": "code",
      "source": [
        "colors = (\"blue\", \"white\", \"black\")\n",
        "print(\"Colors :\", colors)\n"
      ],
      "metadata": {
        "colab": {
          "base_uri": "https://localhost:8080/"
        },
        "id": "kBEU6hzuL3ov",
        "outputId": "94502b45-7db1-4677-d666-28901c9ae11a"
      },
      "execution_count": 21,
      "outputs": [
        {
          "output_type": "stream",
          "name": "stdout",
          "text": [
            "Colors : ('blue', 'white', 'black')\n"
          ]
        }
      ]
    },
    {
      "cell_type": "markdown",
      "source": [
        "3.\tAccessing Tuple Elements:\n",
        "\n",
        "Given the tuple (10, 20, 30, 40), print the second element.\n"
      ],
      "metadata": {
        "id": "04dijYTnNYAu"
      }
    },
    {
      "cell_type": "code",
      "source": [
        "my_tuple = (10, 20, 30, 40)\n",
        "print(\"Second element :\",my_tuple[1])"
      ],
      "metadata": {
        "colab": {
          "base_uri": "https://localhost:8080/"
        },
        "id": "6hwx82VQNZIq",
        "outputId": "2ea0da95-40a2-4cd9-b022-834916493873"
      },
      "execution_count": 22,
      "outputs": [
        {
          "output_type": "stream",
          "name": "stdout",
          "text": [
            "Second element : 20\n"
          ]
        }
      ]
    },
    {
      "cell_type": "markdown",
      "source": [
        "4.\tTuple Slicing:\n",
        "\n",
        "Using the tuple (0, 1, 2, 3, 4), print a slice that contains elements from index 1 to 3.\n"
      ],
      "metadata": {
        "id": "sAQ3eB72Nqvg"
      }
    },
    {
      "cell_type": "code",
      "source": [
        "my_tuple = (0, 1, 2, 3, 4)\n",
        "print(\"Element from index 1 to 3 :\", my_tuple[1:4])"
      ],
      "metadata": {
        "colab": {
          "base_uri": "https://localhost:8080/"
        },
        "id": "qsAjcdsJNsu-",
        "outputId": "9c96ae38-3e1f-4c27-e381-d35f24be2102"
      },
      "execution_count": 23,
      "outputs": [
        {
          "output_type": "stream",
          "name": "stdout",
          "text": [
            "Element from index 1 to 3 : (1, 2, 3)\n"
          ]
        }
      ]
    },
    {
      "cell_type": "markdown",
      "source": [
        "5.\tConcatenating Tuples:\n",
        "\n",
        "Concatenate two tuples, e.g., (1, 2) and (3, 4), and print the result.\n"
      ],
      "metadata": {
        "id": "A7QqQcDpN-KT"
      }
    },
    {
      "cell_type": "code",
      "source": [
        "tuple_1 = (1,2)\n",
        "tuple_2 = (3,4)\n",
        "concatenated_tuple = tuple_1 + tuple_2\n",
        "print(\"Concatenated tuple :\",concatenated_tuple)"
      ],
      "metadata": {
        "colab": {
          "base_uri": "https://localhost:8080/"
        },
        "id": "oOV_Yma1OFo-",
        "outputId": "fb6ff298-ed40-48ef-8a82-3951a144ac13"
      },
      "execution_count": 24,
      "outputs": [
        {
          "output_type": "stream",
          "name": "stdout",
          "text": [
            "Concatenated tuple : (1, 2, 3, 4)\n"
          ]
        }
      ]
    },
    {
      "cell_type": "markdown",
      "source": [
        "6.\tTuple Unpacking:\n",
        "\n",
        "Store the tuple (\"Alice\", 25, \"New York\") into three variables and print them.\n"
      ],
      "metadata": {
        "id": "O3cMd0wEOceT"
      }
    },
    {
      "cell_type": "code",
      "source": [
        "mixed_tuple = (\"Alice\", 25, \"New York\")\n",
        "tuple_1,tuple_2, tuple_3 = mixed_tuple\n",
        "print(tuple_1)\n",
        "print(tuple_2)\n",
        "print(tuple_3)"
      ],
      "metadata": {
        "colab": {
          "base_uri": "https://localhost:8080/"
        },
        "id": "U2hL29jsOfvY",
        "outputId": "06b0dae0-f039-4507-f2cb-c91d2853f143"
      },
      "execution_count": 28,
      "outputs": [
        {
          "output_type": "stream",
          "name": "stdout",
          "text": [
            "Alice\n",
            "25\n",
            "New York\n"
          ]
        }
      ]
    },
    {
      "cell_type": "markdown",
      "source": [
        "7.\tConvert List to Tuple:\n",
        "\n",
        "Convert the list [1, 2, 3, 4] into a tuple and print the tuple.\n"
      ],
      "metadata": {
        "id": "Pit0l7nQO0mx"
      }
    },
    {
      "cell_type": "code",
      "source": [
        "my_list = [1,2,3,4]\n",
        "print(\"List :\",my_list)\n",
        "my_tuple = tuple(my_list) #convert list to tuple\n",
        "print(\"Tuple :\",my_tuple)"
      ],
      "metadata": {
        "colab": {
          "base_uri": "https://localhost:8080/"
        },
        "id": "piAkrToCPPFe",
        "outputId": "9cad5ca6-22f1-4bf9-99c9-726b7cd43a73"
      },
      "execution_count": 29,
      "outputs": [
        {
          "output_type": "stream",
          "name": "stdout",
          "text": [
            "List : [1, 2, 3, 4]\n",
            "Tuple : (1, 2, 3, 4)\n"
          ]
        }
      ]
    },
    {
      "cell_type": "markdown",
      "source": [
        "8.\tCounting Occurrences:\n",
        "\n",
        "Given the tuple (1, 2, 2, 3, 2), count how many times the number 2 appears.\n"
      ],
      "metadata": {
        "id": "L-kuiCMmPkgv"
      }
    },
    {
      "cell_type": "code",
      "source": [
        "my_tuple = (1, 2, 2, 3, 2)\n",
        "count = my_tuple.count(2)\n",
        "print(f\"Number is appeared {count} times in the tuple\")"
      ],
      "metadata": {
        "colab": {
          "base_uri": "https://localhost:8080/"
        },
        "id": "dCWdnutXPxwb",
        "outputId": "74f9d70e-890b-4a40-8df6-f903e263369b"
      },
      "execution_count": 31,
      "outputs": [
        {
          "output_type": "stream",
          "name": "stdout",
          "text": [
            "Number is appeared 3 times in the tuple\n"
          ]
        }
      ]
    },
    {
      "cell_type": "markdown",
      "source": [
        "1.\tFinding an Index:\n",
        "\n",
        "In the tuple (10, 20, 30, 40), find the index of the element 30 and print it.\n"
      ],
      "metadata": {
        "id": "lZzDHbVsQCx-"
      }
    },
    {
      "cell_type": "code",
      "source": [
        "my_tuple = (10, 20, 30, 40)\n",
        "print(\"The index of the element 30 is\",my_tuple.index(30))"
      ],
      "metadata": {
        "colab": {
          "base_uri": "https://localhost:8080/"
        },
        "id": "6iDkjXO8QGoy",
        "outputId": "c8a68924-9d95-4fb4-da08-77b98a92e050"
      },
      "execution_count": 33,
      "outputs": [
        {
          "output_type": "stream",
          "name": "stdout",
          "text": [
            "The index of the element 30 is 2\n"
          ]
        }
      ]
    }
  ]
}