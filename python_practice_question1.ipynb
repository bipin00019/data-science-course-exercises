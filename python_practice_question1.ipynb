{
  "nbformat": 4,
  "nbformat_minor": 0,
  "metadata": {
    "colab": {
      "provenance": []
    },
    "kernelspec": {
      "name": "python3",
      "display_name": "Python 3"
    },
    "language_info": {
      "name": "python"
    }
  },
  "cells": [
    {
      "cell_type": "markdown",
      "source": [
        "Python Practice Questions (Basic Python)\n",
        "1. Reverse a List:\n",
        "Write a program to reverse a list without using the built-in reverse() or slicing ([::-1])."
      ],
      "metadata": {
        "id": "fVbVXSKQ1z16"
      }
    },
    {
      "cell_type": "code",
      "source": [
        "lis = [1,2,3,4,5,6,7,8,9,10]\n",
        "reverse_list = []\n",
        "for i in range(len(lis)):\n",
        "  reverse_list.append(lis[(len(lis)-1)-i])\n",
        "print(f\"Original list : {lis}\")\n",
        "print(\"Reversed list :\",reverse_list)"
      ],
      "metadata": {
        "colab": {
          "base_uri": "https://localhost:8080/"
        },
        "id": "lEjmZpmc2j40",
        "outputId": "7ed87a8e-4761-452d-9eba-17d1aed41e91"
      },
      "execution_count": 18,
      "outputs": [
        {
          "output_type": "stream",
          "name": "stdout",
          "text": [
            "Original list : [1, 2, 3, 4, 5, 6, 7, 8, 9, 10]\n",
            "Reversed list : [10, 9, 8, 7, 6, 5, 4, 3, 2, 1]\n"
          ]
        }
      ]
    },
    {
      "cell_type": "markdown",
      "source": [
        "2. Even Numbers from a List:\n",
        "\n",
        "Given a list of integers, create a new list containing only even numbers using:\n",
        "\n",
        "(a) A normal loop\n",
        "\n",
        "(b) Using map() and lambda()."
      ],
      "metadata": {
        "id": "_8exe9gF59GY"
      }
    },
    {
      "cell_type": "code",
      "source": [
        "# For normal list containing only even numbers\n",
        "even_list = []\n",
        "for i in lis :\n",
        "  if i % 2 == 0 :\n",
        "    even_list.append(i)\n",
        "print(\"Even list :\",even_list)"
      ],
      "metadata": {
        "colab": {
          "base_uri": "https://localhost:8080/"
        },
        "id": "n6FfKKQo6CU7",
        "outputId": "11e4cb33-5aec-4760-9f78-b6b6825606c0"
      },
      "execution_count": 28,
      "outputs": [
        {
          "output_type": "stream",
          "name": "stdout",
          "text": [
            "Even list : [2, 4, 6, 8, 10]\n"
          ]
        }
      ]
    },
    {
      "cell_type": "code",
      "source": [
        "# Using map() and lambda()\n",
        "list_of_even = list(map(lambda x : x if x % 2 == 0 else None , lis)) # map applies lambda function to every element in the list and creates new one\n",
        "filter_even = list(filter(None, list_of_even)) # filter() keeps the element that matched a condition\n",
        "print(f\"Even list using : {filter_even}\")"
      ],
      "metadata": {
        "colab": {
          "base_uri": "https://localhost:8080/"
        },
        "id": "9_UCVuzu7Tnw",
        "outputId": "e5e1fd62-a9f9-4fe2-d5a3-84839d3f1308"
      },
      "execution_count": 31,
      "outputs": [
        {
          "output_type": "stream",
          "name": "stdout",
          "text": [
            "Even list using : [2, 4, 6, 8, 10]\n"
          ]
        }
      ]
    },
    {
      "cell_type": "markdown",
      "source": [
        "3. Find Squares of Numbers:\n",
        "Given a list [1, 2, 3, 4, 5], create a list of squares using map() and lambda."
      ],
      "metadata": {
        "id": "8OZvDZw7_CtP"
      }
    },
    {
      "cell_type": "code",
      "source": [
        "nums =  [1, 2, 3, 4, 5]\n",
        "squared_list = list(map(lambda x : x**2, nums))\n",
        "print(f\"Squared list : {squared_list}\")"
      ],
      "metadata": {
        "colab": {
          "base_uri": "https://localhost:8080/"
        },
        "id": "s_mRAzu2_H0C",
        "outputId": "fcad886f-e910-4ab0-b310-1f8b4563bc26"
      },
      "execution_count": 32,
      "outputs": [
        {
          "output_type": "stream",
          "name": "stdout",
          "text": [
            "Squared list : [1, 4, 9, 16, 25]\n"
          ]
        }
      ]
    },
    {
      "cell_type": "markdown",
      "source": [
        "4. Sum of Even Numbers:\n",
        "\n",
        "Write a program to find the sum of all even numbers in a list using reduce(). First find the list of even numbers and then find the sum of even numbers using reduce()."
      ],
      "metadata": {
        "id": "6okOXdFDAJI1"
      }
    },
    {
      "cell_type": "code",
      "source": [
        "from functools import reduce\n",
        "lis = [1,2,3,4,5,6,7,8,9,10]\n",
        "even_list = list(filter(lambda x : x % 2 == 0, lis))\n",
        "print(\"Even number list :\",even_list)\n",
        "sum_of_even_numbers = reduce(lambda x, y : x + y, even_list)\n",
        "print(\"Sum of even numbers :\",sum_of_even_numbers)"
      ],
      "metadata": {
        "colab": {
          "base_uri": "https://localhost:8080/"
        },
        "id": "eM9IiazHARzh",
        "outputId": "4aec208e-33d7-406a-ccc0-dc32eb973f07"
      },
      "execution_count": 35,
      "outputs": [
        {
          "output_type": "stream",
          "name": "stdout",
          "text": [
            "Even number list : [2, 4, 6, 8, 10]\n",
            "Sum of even numbers : 30\n"
          ]
        }
      ]
    },
    {
      "cell_type": "markdown",
      "source": [
        "5. Find Words Starting with a Letter:\n",
        "\n",
        "Given a list of words, filter all words starting with the letter 'a' using filter and lambda."
      ],
      "metadata": {
        "id": "S3jZETGcF4q-"
      }
    },
    {
      "cell_type": "code",
      "source": [
        "words = [\"apple\", \"banana\", \"cherry\", \"ant\", \"date\", \"elderberry\"]\n",
        "a_words = list(filter(lambda word : word.startswith('a'), words ))\n",
        "print(f\"words starting with the letter 'a' : {a_words}\")"
      ],
      "metadata": {
        "colab": {
          "base_uri": "https://localhost:8080/"
        },
        "id": "8AkOQiIyF6kO",
        "outputId": "60341654-7e94-4961-da70-93bcabe654ba"
      },
      "execution_count": 36,
      "outputs": [
        {
          "output_type": "stream",
          "name": "stdout",
          "text": [
            "words starting with the letter 'a' : ['apple', 'ant']\n"
          ]
        }
      ]
    },
    {
      "cell_type": "markdown",
      "source": [
        "6. Find the Maximum Number:\n",
        "\n",
        "Find the maximum number in a list using reduce() (without using max() function)."
      ],
      "metadata": {
        "id": "3H230UlqHASX"
      }
    },
    {
      "cell_type": "code",
      "source": [
        "lis = [1,2,3,4,5,6,7,8,9,10]\n",
        "max_num = reduce(lambda x, y: x if x > y else y , lis )\n",
        "print(f\"Max number : {max_num}\")"
      ],
      "metadata": {
        "colab": {
          "base_uri": "https://localhost:8080/"
        },
        "id": "cJ0WqlwrG_hP",
        "outputId": "2c6c066f-a1fa-40da-d690-8df1727471ed"
      },
      "execution_count": 37,
      "outputs": [
        {
          "output_type": "stream",
          "name": "stdout",
          "text": [
            "Max number : 10\n"
          ]
        }
      ]
    },
    {
      "cell_type": "markdown",
      "source": [
        "7. Create a List of Cubes:\n",
        "\n",
        "From 1 to 10, create a list of cubes (e.g., [1, 8, 27, ...]) using list comprehension."
      ],
      "metadata": {
        "id": "2aQg0j_BIILL"
      }
    },
    {
      "cell_type": "code",
      "source": [
        "cubes = [x**3 for x in range(1,11) ]\n",
        "print(f\"List of cubes : {cubes}\")"
      ],
      "metadata": {
        "colab": {
          "base_uri": "https://localhost:8080/"
        },
        "id": "pRPB8E4zIK2V",
        "outputId": "a6dd37c5-58ff-4e09-9bf7-fb127653bf39"
      },
      "execution_count": 39,
      "outputs": [
        {
          "output_type": "stream",
          "name": "stdout",
          "text": [
            "List of cubes : [1, 8, 27, 64, 125, 216, 343, 512, 729, 1000]\n"
          ]
        }
      ]
    },
    {
      "cell_type": "markdown",
      "source": [
        "8. Palindrome Check:\n",
        "\n",
        "Write a function that takes a string and returns True if it is a palindrome, False otherwise."
      ],
      "metadata": {
        "id": "mnSPgFxiQOoM"
      }
    },
    {
      "cell_type": "code",
      "source": [
        "user_input = input(\"Enter anything: \")\n",
        "if (user_input == user_input[::-1]):\n",
        "  print(\"It is palindrome\")\n",
        "else :\n",
        "  print (\"It is not a palindrome\")"
      ],
      "metadata": {
        "colab": {
          "base_uri": "https://localhost:8080/"
        },
        "id": "ESWuNpzTQS0Q",
        "outputId": "6484e29f-78d1-41f2-d563-c233e5579e54"
      },
      "execution_count": 45,
      "outputs": [
        {
          "output_type": "stream",
          "name": "stdout",
          "text": [
            "Enter anything: level\n",
            "It is palindrome\n"
          ]
        }
      ]
    },
    {
      "cell_type": "markdown",
      "source": [
        "9. Merge Two Lists into a Dictionary:\n",
        "\n",
        "Convert them into a dictionary using zip() and dict comprehension."
      ],
      "metadata": {
        "id": "zfAsh2IjRR0o"
      }
    },
    {
      "cell_type": "code",
      "source": [
        "list1 = ['a', 'b', 'c']\n",
        "list2 = [ 1, 2, 3]\n",
        "dictionary = dict(zip(list1, list2))\n",
        "print(\"Dictionary :\",dictionary)"
      ],
      "metadata": {
        "colab": {
          "base_uri": "https://localhost:8080/"
        },
        "id": "wmuhzRX5RVYw",
        "outputId": "8e20ef51-9bec-4fe0-d6d1-263d27b8fafc"
      },
      "execution_count": 46,
      "outputs": [
        {
          "output_type": "stream",
          "name": "stdout",
          "text": [
            "Dictionary : {'a': 1, 'b': 2, 'c': 3}\n"
          ]
        }
      ]
    },
    {
      "cell_type": "markdown",
      "source": [
        "10. Find the Second Largest Number:\n",
        "\n",
        "Write a function to find the second largest number in a list.  "
      ],
      "metadata": {
        "id": "k8dK7AJBR_sE"
      }
    },
    {
      "cell_type": "code",
      "source": [
        "lis = [1,33,4,66,555,66,77,234,89]\n",
        "sorted_list = sorted(lis)\n",
        "print(f\"Second larget number : {sorted_list[-2]} \")"
      ],
      "metadata": {
        "colab": {
          "base_uri": "https://localhost:8080/"
        },
        "id": "_CjHSY25R89e",
        "outputId": "739fc9a3-760e-4f90-d1ff-651a38414dcf"
      },
      "execution_count": 51,
      "outputs": [
        {
          "output_type": "stream",
          "name": "stdout",
          "text": [
            "Second larget number : 234 \n"
          ]
        }
      ]
    }
  ]
}