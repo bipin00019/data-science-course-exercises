{
  "nbformat": 4,
  "nbformat_minor": 0,
  "metadata": {
    "colab": {
      "provenance": []
    },
    "kernelspec": {
      "name": "python3",
      "display_name": "Python 3"
    },
    "language_info": {
      "name": "python"
    }
  },
  "cells": [
    {
      "cell_type": "markdown",
      "source": [
        "Basic Arithmetic and Type Identification\n",
        "\n",
        "•\tCreate three variables: one integer, one float, and one complex number.\n",
        "\n",
        "•\tPrint each variable and use the type() function to confirm their data types.\n"
      ],
      "metadata": {
        "id": "1Wv4JlYhMHUJ"
      }
    },
    {
      "cell_type": "code",
      "source": [
        "a = 2\n",
        "b = 3.2\n",
        "c = 1 + 2j\n",
        "\n",
        "print(a, \"is of type \" , type(a))\n",
        "print(b, \"is of type \" , type(b))\n",
        "print(c, \"is of type \" , type(c))"
      ],
      "metadata": {
        "colab": {
          "base_uri": "https://localhost:8080/"
        },
        "id": "2kljzQjPMLud",
        "outputId": "cc2da5f3-63ec-4a59-dd2f-8e023590210c"
      },
      "execution_count": 9,
      "outputs": [
        {
          "output_type": "stream",
          "name": "stdout",
          "text": [
            "2 is of type  <class 'int'>\n",
            "3.2 is of type  <class 'float'>\n",
            "(1+2j) is of type  <class 'complex'>\n"
          ]
        }
      ]
    },
    {
      "cell_type": "markdown",
      "source": [
        "Arithmetic with Mixed Types\n",
        "\n",
        "•\tCreate one int variable (a) and one float variable (b).\n",
        "\n",
        "•\tPrint the sum, difference, product, and quotient of a and b.\n",
        "\n",
        "•\tPrint the type() of each result (notice how types may change).\n"
      ],
      "metadata": {
        "id": "Uvj9vPmjOAOR"
      }
    },
    {
      "cell_type": "code",
      "source": [
        "a = 2\n",
        "b = 3.2\n",
        "\n",
        "#Arithmetic Operation\n",
        "sum = a + b\n",
        "difference = a - b\n",
        "product = a * b\n",
        "quotient = a / b\n",
        "\n",
        "print (\"Sum of \", a, \"and\", b, \"is\" , sum, \"and type = \", type(sum))\n",
        "print (\"Difference of \", a, \"and\", b, \"is\" , difference, \"and type = \", type(difference))\n",
        "print (\"Product of \", a, \"and\", b, \"is\" , product, \"and type = \", type(product))\n",
        "print (\"Quotient of \", a, \"and\", b, \"is\" , quotient, \"and type = \", type(quotient))"
      ],
      "metadata": {
        "colab": {
          "base_uri": "https://localhost:8080/"
        },
        "id": "MuolvgXvOB25",
        "outputId": "648fb2ee-f79a-4086-b755-aa4c6b7a5ac2"
      },
      "execution_count": 13,
      "outputs": [
        {
          "output_type": "stream",
          "name": "stdout",
          "text": [
            "Sum of  2 and 3.2 is 5.2 and type =  <class 'float'>\n",
            "Difference of  2 and 3.2 is -1.2000000000000002 and type =  <class 'float'>\n",
            "Product of  2 and 3.2 is 6.4 and type =  <class 'float'>\n",
            "Quotient of  2 and 3.2 is 0.625 and type =  <class 'float'>\n"
          ]
        }
      ]
    },
    {
      "cell_type": "markdown",
      "source": [
        "Comparison Operators\n",
        "\n",
        "•\tLet x = 10 and y = 7.\n",
        "\n",
        "•\tPrint the results of x > y, x < y, x == y, and x != y.\n",
        "\n",
        "•\tAfter observing the output, explain why each result is True or False in comments.\n"
      ],
      "metadata": {
        "id": "CxOcHcpAPgx4"
      }
    },
    {
      "cell_type": "code",
      "source": [
        "x = 10\n",
        "y = 7\n",
        "\n",
        "print(\"x > y \" , \"is\", x > y, \"because x is greater than y\")\n",
        "print(\"x < y \" , \"is\", x < y, \"because x is not greater than y\")\n",
        "print(\"x == y \" , \"is\", x == y, \"because x is not eqaul to y\")\n",
        "print(\"x != y \" , \"is\", x != y, \"because x is not eqaul to y\")\n",
        "\n"
      ],
      "metadata": {
        "colab": {
          "base_uri": "https://localhost:8080/"
        },
        "id": "U151czmHPgcO",
        "outputId": "a5ee9985-6d54-4cb8-8d3b-d6062f09f036"
      },
      "execution_count": 16,
      "outputs": [
        {
          "output_type": "stream",
          "name": "stdout",
          "text": [
            "x > y  is True because x is greater than y\n",
            "x < y  is False because x is not greater than y\n",
            "x == y  is False because x is not eqaul to y\n",
            "x != y  is True because x is not eqaul to y\n"
          ]
        }
      ]
    },
    {
      "cell_type": "markdown",
      "source": [
        "Boolean Variables\n",
        "\n",
        "•\tDefine a variable status = True.\n",
        "\n",
        "•\tPrint the value of status and confirm it is a boolean using type(status).\n",
        "\n",
        "•\tReassign status to False and confirm its type again.\n"
      ],
      "metadata": {
        "id": "NBvF6LcZQL8H"
      }
    },
    {
      "cell_type": "code",
      "source": [
        "status = True\n",
        "print(\"Value of status is \", status, \"and data type is \", type(status) )\n",
        "status = False\n",
        "print(\"Value of status is \", status, \"and data type is \", type(status) )"
      ],
      "metadata": {
        "colab": {
          "base_uri": "https://localhost:8080/"
        },
        "id": "hjJ2MoLEQPRA",
        "outputId": "a83588e2-cd5d-4807-d444-bbd796b7760e"
      },
      "execution_count": 19,
      "outputs": [
        {
          "output_type": "stream",
          "name": "stdout",
          "text": [
            "Value of status is  True and data type is  <class 'bool'>\n",
            "Value of status is  False and data type is  <class 'bool'>\n"
          ]
        }
      ]
    },
    {
      "cell_type": "markdown",
      "source": [
        "String Creation and Length\n",
        "\n",
        "•\tCreate a string variable, for example text = \"Hello World\".\n",
        "\n",
        "•\tUse len(text) to print its length.\n",
        "\n",
        "•\tUse type(text) to verify it is a string.\n"
      ],
      "metadata": {
        "id": "BfZ69gsAQseN"
      }
    },
    {
      "cell_type": "code",
      "source": [
        "text = \"Hello World\"\n",
        "print(\"Length : \", len(text), \"and data type : \", type(text))"
      ],
      "metadata": {
        "colab": {
          "base_uri": "https://localhost:8080/"
        },
        "id": "0LnPSev0QxtR",
        "outputId": "a32c1b24-d9aa-4b97-9924-0061af84b60b"
      },
      "execution_count": 21,
      "outputs": [
        {
          "output_type": "stream",
          "name": "stdout",
          "text": [
            "Length :  11 and data type :  <class 'str'>\n"
          ]
        }
      ]
    },
    {
      "cell_type": "markdown",
      "source": [
        "String Indexing\n",
        "\n",
        "•\tWith the string s = \"Python\", print each character. Then print just the first and last characters using negative indexing.\n"
      ],
      "metadata": {
        "id": "D2wMyKtQRJF-"
      }
    },
    {
      "cell_type": "code",
      "source": [
        "s = \"Python\"\n",
        "for i in s :\n",
        "  print(i)\n",
        "\n",
        "print(\"First element : \", s[0])\n",
        "print(\"Last element : \", s[-1])\n"
      ],
      "metadata": {
        "colab": {
          "base_uri": "https://localhost:8080/"
        },
        "id": "yvEbB9ITRMBU",
        "outputId": "469141d1-5132-41e3-ecbe-4c955ea5c80a"
      },
      "execution_count": 29,
      "outputs": [
        {
          "output_type": "stream",
          "name": "stdout",
          "text": [
            "P\n",
            "y\n",
            "t\n",
            "h\n",
            "o\n",
            "n\n",
            "First element :  P\n",
            "Last element :  n\n"
          ]
        }
      ]
    },
    {
      "cell_type": "markdown",
      "source": [
        "String Slicing\n",
        "\n",
        "•\tLet lang = \"Programming\".\n",
        "\n",
        "•\tPrint the substring from index 0 to index 4.\n",
        "\n",
        "•\tPrint the substring from index 3 to the end.\n",
        "\n",
        "•\tPrint the substring that omits the first 2 and last 2 characters.\n"
      ],
      "metadata": {
        "id": "kpscLW0BSe6V"
      }
    },
    {
      "cell_type": "code",
      "source": [
        "lang = \"Programming\"\n",
        "print(\"substring from index 0 to index 4 is \", lang[0:5])\n",
        "print(\"substring from index 3 to end is \", lang[3:])\n",
        "print(\"substring that omits the first 2 and last 2 characters is \", lang[2:-2])"
      ],
      "metadata": {
        "colab": {
          "base_uri": "https://localhost:8080/"
        },
        "id": "YwF0kkX5Shy1",
        "outputId": "96a335c8-91ec-426d-e7ab-8d48081ac726"
      },
      "execution_count": 34,
      "outputs": [
        {
          "output_type": "stream",
          "name": "stdout",
          "text": [
            "substring from index 0 to index 4 is  Progr\n",
            "substring from index 3 to end is  gramming\n",
            "substring that omits the first 2 and last 2 characters is  ogrammi\n"
          ]
        }
      ]
    },
    {
      "cell_type": "markdown",
      "source": [
        "Exploring len() on Slices\n",
        "\n",
        "•\tContinue using lang = \"Programming\".\n",
        "\n",
        "•\tSlice lang to get \"Program\" and store it in a variable part1.\n",
        "\n",
        "•\tPrint len(part1) and comment how it differs from len(lang).\n"
      ],
      "metadata": {
        "id": "vBixcwwrTbfF"
      }
    },
    {
      "cell_type": "code",
      "source": [
        "lang = \"Programming\"\n",
        "part1 = lang[:7]\n",
        "print(\"Part1 : \", part1)\n",
        "print(\"length of part1 : \",len(part1)) # it differs from the original string as part1 is sliced from the lang"
      ],
      "metadata": {
        "colab": {
          "base_uri": "https://localhost:8080/"
        },
        "id": "Gw-3I8r0TeKp",
        "outputId": "5780727e-8524-4403-c5fe-c64dc5cb01c3"
      },
      "execution_count": 37,
      "outputs": [
        {
          "output_type": "stream",
          "name": "stdout",
          "text": [
            "Part1 :  Program\n",
            "length of part1 :  7\n"
          ]
        }
      ]
    },
    {
      "cell_type": "markdown",
      "source": [
        "String Methods – Case Conversion\n",
        "\n",
        "•\tLet phrase = \"Hello, Python!\".\n",
        "\n",
        "•\tPrint phrase.upper() and phrase.lower().\n",
        "\n",
        "•\tPrint the original phrase to show it remains unchanged (strings are immutable).\n"
      ],
      "metadata": {
        "id": "BMHd2_MuUZ6J"
      }
    },
    {
      "cell_type": "code",
      "source": [
        " phrase = \"Hello, Python!\"\n",
        " print(\"Upper case of phrase : \", phrase.upper())\n",
        " print(\"Lower case of phrase : \", phrase.lower())\n",
        " print(\"Orginal form : \", phrase)"
      ],
      "metadata": {
        "colab": {
          "base_uri": "https://localhost:8080/"
        },
        "id": "5bx57UfoUbWh",
        "outputId": "5c2f2d2c-2f4e-438b-bcf4-62da67a21480"
      },
      "execution_count": 41,
      "outputs": [
        {
          "output_type": "stream",
          "name": "stdout",
          "text": [
            "Upper case of phrase :  HELLO, PYTHON!\n",
            "Lower case of phrase :  hello, python!\n",
            "Orginal form :  Hello, Python!\n"
          ]
        }
      ]
    },
    {
      "cell_type": "markdown",
      "source": [
        "Combining Strings\n",
        "\n",
        "•\tCreate two strings, str1 = \"Data\" and str2 = \"Science\".\n",
        "\n",
        "•\tCombine them into a single string with a space in between and print it.\n",
        "\n",
        "•\tPrint the length of the combined string.\n"
      ],
      "metadata": {
        "id": "f9htLOvVVAsR"
      }
    },
    {
      "cell_type": "code",
      "source": [
        " str1 = \"Data\"\n",
        " str2 = \"Science\"\n",
        " combined_string = \" \".join([str1,str2])\n",
        " print(\"Combined string : \", combined_string, \" and length \" , len(combined_string))"
      ],
      "metadata": {
        "colab": {
          "base_uri": "https://localhost:8080/"
        },
        "id": "ieIoYW-YVETo",
        "outputId": "20e4f49f-bae4-4b38-b847-f78d9ea2b68e"
      },
      "execution_count": 45,
      "outputs": [
        {
          "output_type": "stream",
          "name": "stdout",
          "text": [
            "Combined string :  Data Science  and length  12\n"
          ]
        }
      ]
    },
    {
      "cell_type": "markdown",
      "source": [
        "In-Place vs. Reassignment with String Methods\n",
        "\n",
        "•\tLet word = \"example\".\n",
        "\n",
        "•\tCall word.upper() but do not store it, then print word.\n",
        "\n",
        "•\tNow set word = word.upper(), then print word.\n",
        "\n",
        "•\tComment on why the second print is different from the first.\n"
      ],
      "metadata": {
        "id": "ZJIPV1j-WhbS"
      }
    },
    {
      "cell_type": "code",
      "source": [
        "word = \"example\"\n",
        "word.upper\n",
        "print(\"Word text :\" , word)\n",
        "set_word  = word.upper()\n",
        "print(\"Stored upper world:\", word.upper()) # The text will be printed in upper case because it is stored in set_word"
      ],
      "metadata": {
        "colab": {
          "base_uri": "https://localhost:8080/"
        },
        "id": "Z-vTRoXNWkw5",
        "outputId": "b3fa7e9b-a5d6-49ea-aa15-f34e95c61143"
      },
      "execution_count": 53,
      "outputs": [
        {
          "output_type": "stream",
          "name": "stdout",
          "text": [
            "Word text : example\n",
            "Stored upper world: EXAMPLE\n"
          ]
        }
      ]
    },
    {
      "cell_type": "markdown",
      "source": [
        "Arithmetic Operator Precedence\n",
        "\n",
        "•\tDefine a = 5, b = 3, c = 2.\n",
        "\n",
        "•\tPrint the result of the expression a + b * c.\n",
        "\n",
        "•\tPrint the result of (a + b) * c.\n",
        "\n",
        "•\tIn comments, explain how operator precedence affects the outcome.\n"
      ],
      "metadata": {
        "id": "X6RJVtpIYzEz"
      }
    },
    {
      "cell_type": "code",
      "source": [
        "a = 5\n",
        "b = 3\n",
        "c = 2\n",
        "print(\"Result of the expression a + b * c :\", a + b * c)\n",
        "print(\"Result of (a + b) * c :\", (a + b) * c) #Because of BODMAS rule both expression will give different answer"
      ],
      "metadata": {
        "colab": {
          "base_uri": "https://localhost:8080/"
        },
        "id": "1DikE7dIY35-",
        "outputId": "c2f45222-08e7-431a-c731-21305bc1c0cb"
      },
      "execution_count": 56,
      "outputs": [
        {
          "output_type": "stream",
          "name": "stdout",
          "text": [
            "Result of the expression a + b * c : 11\n",
            "Result of (a + b) * c : 16\n"
          ]
        }
      ]
    },
    {
      "cell_type": "markdown",
      "source": [
        "String Index Out of Range\n",
        "\n",
        "•\tLet text = \"Hello\".\n",
        "\n",
        "•\tAttempt to access an index that doesn’t exist, like text[10].\n",
        "\n",
        "•\tObserve the error message (IndexError) and explain why it happens in comments.\n"
      ],
      "metadata": {
        "id": "C3s8UppKZhH-"
      }
    },
    {
      "cell_type": "code",
      "source": [
        "text = \"Hello\"\n",
        "print(text[10]) # string index is out range as there is only up to 4 index"
      ],
      "metadata": {
        "colab": {
          "base_uri": "https://localhost:8080/",
          "height": 158
        },
        "id": "A9mOoQWSZj5S",
        "outputId": "0b5b4762-6f1a-4b22-bde1-4f3cd289d69e"
      },
      "execution_count": 57,
      "outputs": [
        {
          "output_type": "error",
          "ename": "IndexError",
          "evalue": "string index out of range",
          "traceback": [
            "\u001b[0;31m---------------------------------------------------------------------------\u001b[0m",
            "\u001b[0;31mIndexError\u001b[0m                                Traceback (most recent call last)",
            "\u001b[0;32m/tmp/ipython-input-57-234342016.py\u001b[0m in \u001b[0;36m<cell line: 0>\u001b[0;34m()\u001b[0m\n\u001b[1;32m      1\u001b[0m \u001b[0mtext\u001b[0m \u001b[0;34m=\u001b[0m \u001b[0;34m\"Hello\"\u001b[0m\u001b[0;34m\u001b[0m\u001b[0;34m\u001b[0m\u001b[0m\n\u001b[0;32m----> 2\u001b[0;31m \u001b[0mprint\u001b[0m\u001b[0;34m(\u001b[0m\u001b[0mtext\u001b[0m\u001b[0;34m[\u001b[0m\u001b[0;36m10\u001b[0m\u001b[0;34m]\u001b[0m\u001b[0;34m)\u001b[0m\u001b[0;34m\u001b[0m\u001b[0;34m\u001b[0m\u001b[0m\n\u001b[0m",
            "\u001b[0;31mIndexError\u001b[0m: string index out of range"
          ]
        }
      ]
    },
    {
      "cell_type": "markdown",
      "source": [
        "Equality vs. Identity Check (Conceptual Explanation)\n",
        "\n",
        "•\tCreate two variables with the same string value, s1 = \"test\" and s2 = \"test\".\n",
        "\n",
        "•\tUse the == operator to compare them, then use the is operator.\n",
        "\n",
        "•\tExplain in comments what each comparison checks.\n"
      ],
      "metadata": {
        "id": "Z6QxByWVZ47a"
      }
    },
    {
      "cell_type": "code",
      "source": [
        "s1 = \"test\"\n",
        "s2 = \"test\"\n",
        "print(s1 == s2) #check the value\n",
        "print(s1 is s2) # checks the memory location"
      ],
      "metadata": {
        "colab": {
          "base_uri": "https://localhost:8080/"
        },
        "id": "EGbDr_UZZ9WZ",
        "outputId": "89b39bee-648c-4906-c272-0c1bb419cc10"
      },
      "execution_count": 59,
      "outputs": [
        {
          "output_type": "stream",
          "name": "stdout",
          "text": [
            "True\n",
            "True\n"
          ]
        }
      ]
    },
    {
      "cell_type": "markdown",
      "source": [
        "Creating and Checking a Complex Number\n",
        "\n",
        "•\tDefine z = 3 + 4j.\n",
        "\n",
        "•\tPrint the real part (z.real) and the imaginary part (z.imag).\n",
        "\n",
        "•\tConfirm that its type is complex using type(z).\n"
      ],
      "metadata": {
        "id": "5Z-layvVaq3r"
      }
    },
    {
      "cell_type": "code",
      "source": [
        "z = 3 + 4j\n",
        "print(\"Real part :\", z.real)\n",
        "print(\"Imaginart part :\", z.imag)\n",
        "print(\"Type :\", type(z))"
      ],
      "metadata": {
        "colab": {
          "base_uri": "https://localhost:8080/"
        },
        "id": "rRagXRZaavBe",
        "outputId": "67cd4f5e-1aad-45fd-f92c-8e4464cc2497"
      },
      "execution_count": 61,
      "outputs": [
        {
          "output_type": "stream",
          "name": "stdout",
          "text": [
            "Real part : 3.0\n",
            "Imaginart part : 4.0\n",
            "Type : <class 'complex'>\n"
          ]
        }
      ]
    },
    {
      "cell_type": "markdown",
      "source": [
        "Comparisons with Floats\n",
        "\n",
        "•\tLet f1 = 0.1 + 0.2 and f2 = 0.3.\n",
        "\n",
        "•\tPrint f1 == f2.\n",
        "\n",
        "•\tPrint the actual values of f1 and f2 to explain any difference in the comparison outcome (floating-point precision).\n"
      ],
      "metadata": {
        "id": "zl0h9x5PbSji"
      }
    },
    {
      "cell_type": "code",
      "source": [
        "f1 = 0.1 + 0.2\n",
        "f2 = 0.3\n",
        "print(\"f1==f2\",f1==f2) #computer take floating point number in binary so f1 and f2 will not be slighlty equal\n",
        "print(\"f1 :\", f1)\n",
        "print(\"f2 :\", f2)\n"
      ],
      "metadata": {
        "colab": {
          "base_uri": "https://localhost:8080/"
        },
        "id": "6X1AW6YobWY2",
        "outputId": "312d3605-9834-40fe-f7cd-8eb2cdf607bb"
      },
      "execution_count": 64,
      "outputs": [
        {
          "output_type": "stream",
          "name": "stdout",
          "text": [
            "f1==f2 False\n",
            "f1 : 0.30000000000000004\n",
            "f2 : 0.3\n"
          ]
        }
      ]
    }
  ]
}